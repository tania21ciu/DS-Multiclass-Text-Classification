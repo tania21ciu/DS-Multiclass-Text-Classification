{
  "nbformat": 4,
  "nbformat_minor": 0,
  "metadata": {
    "colab": {
      "name": "multiclass_text_classification_lstm_60.ipynb",
      "provenance": [],
      "collapsed_sections": [
        "xzb0AUggCMal",
        "GwUjwuFHN_GY"
      ],
      "toc_visible": true
    },
    "kernelspec": {
      "name": "python3",
      "display_name": "Python 3"
    },
    "language_info": {
      "name": "python"
    },
    "accelerator": "GPU"
  },
  "cells": [
    {
      "cell_type": "markdown",
      "metadata": {
        "id": "xzb0AUggCMal"
      },
      "source": [
        "# Preparation"
      ]
    },
    {
      "cell_type": "code",
      "metadata": {
        "id": "qfRkpWFVsfJw"
      },
      "source": [
        "import pandas as pd\n",
        "import numpy as np\n",
        "import matplotlib.pyplot as plt"
      ],
      "execution_count": null,
      "outputs": []
    },
    {
      "cell_type": "code",
      "metadata": {
        "id": "ZsGwTFP_vYGh",
        "colab": {
          "base_uri": "https://localhost:8080/"
        },
        "outputId": "bfa96ff2-3657-4431-9c9b-7a2fadaf279b"
      },
      "source": [
        "df = pd.read_csv('train.csv')\n",
        "df.head()"
      ],
      "execution_count": null,
      "outputs": [
        {
          "output_type": "execute_result",
          "data": {
            "text/html": [
              "<div>\n",
              "<style scoped>\n",
              "    .dataframe tbody tr th:only-of-type {\n",
              "        vertical-align: middle;\n",
              "    }\n",
              "\n",
              "    .dataframe tbody tr th {\n",
              "        vertical-align: top;\n",
              "    }\n",
              "\n",
              "    .dataframe thead th {\n",
              "        text-align: right;\n",
              "    }\n",
              "</style>\n",
              "<table border=\"1\" class=\"dataframe\">\n",
              "  <thead>\n",
              "    <tr style=\"text-align: right;\">\n",
              "      <th></th>\n",
              "      <th>review_id</th>\n",
              "      <th>review</th>\n",
              "      <th>rating</th>\n",
              "    </tr>\n",
              "  </thead>\n",
              "  <tbody>\n",
              "    <tr>\n",
              "      <th>0</th>\n",
              "      <td>0</td>\n",
              "      <td>Ga disappointed neat products .. Meletot Hilsn...</td>\n",
              "      <td>1</td>\n",
              "    </tr>\n",
              "    <tr>\n",
              "      <th>1</th>\n",
              "      <td>1</td>\n",
              "      <td>Rdtanya replace broken glass, broken chargernya</td>\n",
              "      <td>1</td>\n",
              "    </tr>\n",
              "    <tr>\n",
              "      <th>2</th>\n",
              "      <td>2</td>\n",
              "      <td>Nyesel bngt dsni shopping antecedent photo mes...</td>\n",
              "      <td>1</td>\n",
              "    </tr>\n",
              "    <tr>\n",
              "      <th>3</th>\n",
              "      <td>3</td>\n",
              "      <td>Sent a light blue suit goods ga want a refund</td>\n",
              "      <td>1</td>\n",
              "    </tr>\n",
              "    <tr>\n",
              "      <th>4</th>\n",
              "      <td>4</td>\n",
              "      <td>Pendants came with dents and scratches on its ...</td>\n",
              "      <td>1</td>\n",
              "    </tr>\n",
              "  </tbody>\n",
              "</table>\n",
              "</div>"
            ],
            "text/plain": [
              "   review_id                                             review  rating\n",
              "0          0  Ga disappointed neat products .. Meletot Hilsn...       1\n",
              "1          1    Rdtanya replace broken glass, broken chargernya       1\n",
              "2          2  Nyesel bngt dsni shopping antecedent photo mes...       1\n",
              "3          3      Sent a light blue suit goods ga want a refund       1\n",
              "4          4  Pendants came with dents and scratches on its ...       1"
            ]
          },
          "metadata": {
            "tags": []
          },
          "execution_count": 2
        }
      ]
    },
    {
      "cell_type": "code",
      "metadata": {
        "colab": {
          "base_uri": "https://localhost:8080/"
        },
        "id": "Fy9r_D3MvgKw",
        "outputId": "46ac501c-d030-48bf-e2a4-b09e91b8953f"
      },
      "source": [
        "df.isnull().sum()"
      ],
      "execution_count": null,
      "outputs": [
        {
          "output_type": "execute_result",
          "data": {
            "text/plain": [
              "review_id    0\n",
              "review       0\n",
              "rating       0\n",
              "dtype: int64"
            ]
          },
          "metadata": {
            "tags": []
          },
          "execution_count": 3
        }
      ]
    },
    {
      "cell_type": "code",
      "metadata": {
        "colab": {
          "base_uri": "https://localhost:8080/"
        },
        "id": "z8TJmQ4uv7zx",
        "outputId": "b811ba9e-41f3-425d-cfda-a71c520f2de8"
      },
      "source": [
        "df.shape"
      ],
      "execution_count": null,
      "outputs": [
        {
          "output_type": "execute_result",
          "data": {
            "text/plain": [
              "(146811, 3)"
            ]
          },
          "metadata": {
            "tags": []
          },
          "execution_count": 4
        }
      ]
    },
    {
      "cell_type": "code",
      "metadata": {
        "colab": {
          "base_uri": "https://localhost:8080/"
        },
        "id": "7-VRVGYUwBAs",
        "outputId": "756f926d-3589-4d78-bbd4-999d3efeffe9"
      },
      "source": [
        "df['rating'].value_counts()"
      ],
      "execution_count": null,
      "outputs": [
        {
          "output_type": "execute_result",
          "data": {
            "text/plain": [
              "4    41865\n",
              "5    41515\n",
              "3    35941\n",
              "1    14785\n",
              "2    12705\n",
              "Name: rating, dtype: int64"
            ]
          },
          "metadata": {
            "tags": []
          },
          "execution_count": 5
        }
      ]
    },
    {
      "cell_type": "code",
      "metadata": {
        "colab": {
          "base_uri": "https://localhost:8080/"
        },
        "id": "IcT37H5swdsi",
        "outputId": "35158bb1-a0f2-4b34-c25f-3ad233834e3a"
      },
      "source": [
        "plt.hist(df['rating'],density=1, bins=20)\n",
        "plt.show()"
      ],
      "execution_count": null,
      "outputs": [
        {
          "output_type": "display_data",
          "data": {
            "image/png": "[encoded data removed]",
            "text/plain": [
              "<Figure size 432x288 with 1 Axes>"
            ]
          },
          "metadata": {
            "tags": [],
            "needs_background": "light"
          }
        }
      ]
    },
    {
      "cell_type": "markdown",
      "metadata": {
        "id": "r0kNVoFs0YyO"
      },
      "source": [
        "# Data Cleansing & Text Preprocessing"
      ]
    },
    {
      "cell_type": "code",
      "metadata": {
        "id": "tu9mIlZODlJD"
      },
      "source": [
        "import string\n",
        "import re"
      ],
      "execution_count": null,
      "outputs": []
    },
    {
      "cell_type": "code",
      "metadata": {
        "colab": {
          "base_uri": "https://localhost:8080/",
          "height": 204
        },
        "id": "4ZS6T-mGxwCu",
        "outputId": "a22017e9-1887-4fa6-9baf-1480099dc601"
      },
      "source": [
        "df = df[['review', 'rating']]\n",
        "df.head()"
      ],
      "execution_count": null,
      "outputs": [
        {
          "output_type": "execute_result",
          "data": {
            "text/html": [
              "<div>\n",
              "<style scoped>\n",
              "    .dataframe tbody tr th:only-of-type {\n",
              "        vertical-align: middle;\n",
              "    }\n",
              "\n",
              "    .dataframe tbody tr th {\n",
              "        vertical-align: top;\n",
              "    }\n",
              "\n",
              "    .dataframe thead th {\n",
              "        text-align: right;\n",
              "    }\n",
              "</style>\n",
              "<table border=\"1\" class=\"dataframe\">\n",
              "  <thead>\n",
              "    <tr style=\"text-align: right;\">\n",
              "      <th></th>\n",
              "      <th>review</th>\n",
              "      <th>rating</th>\n",
              "    </tr>\n",
              "  </thead>\n",
              "  <tbody>\n",
              "    <tr>\n",
              "      <th>0</th>\n",
              "      <td>Ga disappointed neat products .. Meletot Hilsn...</td>\n",
              "      <td>1</td>\n",
              "    </tr>\n",
              "    <tr>\n",
              "      <th>1</th>\n",
              "      <td>Rdtanya replace broken glass, broken chargernya</td>\n",
              "      <td>1</td>\n",
              "    </tr>\n",
              "    <tr>\n",
              "      <th>2</th>\n",
              "      <td>Nyesel bngt dsni shopping antecedent photo mes...</td>\n",
              "      <td>1</td>\n",
              "    </tr>\n",
              "    <tr>\n",
              "      <th>3</th>\n",
              "      <td>Sent a light blue suit goods ga want a refund</td>\n",
              "      <td>1</td>\n",
              "    </tr>\n",
              "    <tr>\n",
              "      <th>4</th>\n",
              "      <td>Pendants came with dents and scratches on its ...</td>\n",
              "      <td>1</td>\n",
              "    </tr>\n",
              "  </tbody>\n",
              "</table>\n",
              "</div>"
            ],
            "text/plain": [
              "                                              review  rating\n",
              "0  Ga disappointed neat products .. Meletot Hilsn...       1\n",
              "1    Rdtanya replace broken glass, broken chargernya       1\n",
              "2  Nyesel bngt dsni shopping antecedent photo mes...       1\n",
              "3      Sent a light blue suit goods ga want a refund       1\n",
              "4  Pendants came with dents and scratches on its ...       1"
            ]
          },
          "metadata": {
            "tags": []
          },
          "execution_count": 8
        }
      ]
    },
    {
      "cell_type": "code",
      "metadata": {
        "colab": {
          "base_uri": "https://localhost:8080/"
        },
        "id": "K9IJg6pAMZ13",
        "outputId": "2e63c502-d203-411a-cbe4-df66912b665f"
      },
      "source": [
        "# separate majority and minority classes\n",
        "df_1 = df[df.rating == 1] \n",
        "df_3 = df[df.rating == 3] \n",
        "df_4 = df[df.rating == 4] \n",
        "df_5 = df[df.rating == 5] \n",
        "df_minority = df[df.rating == 2] \n",
        "print(df_minority['rating'].value_counts())"
      ],
      "execution_count": null,
      "outputs": [
        {
          "output_type": "stream",
          "text": [
            "2    12705\n",
            "Name: rating, dtype: int64\n"
          ],
          "name": "stdout"
        }
      ]
    },
    {
      "cell_type": "code",
      "metadata": {
        "colab": {
          "base_uri": "https://localhost:8080/"
        },
        "id": "R_96l_lqPdLW",
        "outputId": "41099545-6a63-4df8-ea47-4e760ddc4717"
      },
      "source": [
        "# harusnya pake looping\n",
        "from sklearn.utils import resample\n",
        "df1 = resample(df_1, replace=False, n_samples=12705, random_state=42)\n",
        "df3 = resample(df_3, replace=False, n_samples=12705, random_state=42)\n",
        "df4 = resample(df_4, replace=False, n_samples=12705, random_state=42)\n",
        "df5 = resample(df_5, replace=False, n_samples=12705, random_state=42)\n",
        "data = pd.concat([df1, df3, df4, df5, df_minority])\n",
        "data.rating.value_counts()"
      ],
      "execution_count": null,
      "outputs": [
        {
          "output_type": "execute_result",
          "data": {
            "text/plain": [
              "5    12705\n",
              "4    12705\n",
              "3    12705\n",
              "2    12705\n",
              "1    12705\n",
              "Name: rating, dtype: int64"
            ]
          },
          "metadata": {
            "tags": []
          },
          "execution_count": 11
        }
      ]
    },
    {
      "cell_type": "code",
      "metadata": {
        "colab": {
          "base_uri": "https://localhost:8080/"
        },
        "id": "ToZEYGXvTi04",
        "outputId": "b7305300-a667-4f49-b2de-89511ceaafb8"
      },
      "source": [
        "len(data)"
      ],
      "execution_count": null,
      "outputs": [
        {
          "output_type": "execute_result",
          "data": {
            "text/plain": [
              "63525"
            ]
          },
          "metadata": {
            "tags": []
          },
          "execution_count": 12
        }
      ]
    },
    {
      "cell_type": "code",
      "metadata": {
        "colab": {
          "base_uri": "https://localhost:8080/",
          "height": 204
        },
        "id": "2JkKMsXT0cP1",
        "outputId": "a8a33723-2eb7-4531-ca18-66f742f9eb9b"
      },
      "source": [
        "def remove_punctuation(text):\n",
        "    no_punct=[words for words in text if words not in string.punctuation]\n",
        "    words_wo_punct= ''.join(no_punct)\n",
        "    return words_wo_punct\n",
        "data['clean_text']=data['review'].apply(lambda x: remove_punctuation(x))\n",
        "data.head()"
      ],
      "execution_count": null,
      "outputs": [
        {
          "output_type": "execute_result",
          "data": {
            "text/html": [
              "<div>\n",
              "<style scoped>\n",
              "    .dataframe tbody tr th:only-of-type {\n",
              "        vertical-align: middle;\n",
              "    }\n",
              "\n",
              "    .dataframe tbody tr th {\n",
              "        vertical-align: top;\n",
              "    }\n",
              "\n",
              "    .dataframe thead th {\n",
              "        text-align: right;\n",
              "    }\n",
              "</style>\n",
              "<table border=\"1\" class=\"dataframe\">\n",
              "  <thead>\n",
              "    <tr style=\"text-align: right;\">\n",
              "      <th></th>\n",
              "      <th>review</th>\n",
              "      <th>rating</th>\n",
              "      <th>clean_text</th>\n",
              "    </tr>\n",
              "  </thead>\n",
              "  <tbody>\n",
              "    <tr>\n",
              "      <th>10390</th>\n",
              "      <td>Item different from picture</td>\n",
              "      <td>1</td>\n",
              "      <td>Item different from picture</td>\n",
              "    </tr>\n",
              "    <tr>\n",
              "      <th>5549</th>\n",
              "      <td>Dapet apes who like this again</td>\n",
              "      <td>1</td>\n",
              "      <td>Dapet apes who like this again</td>\n",
              "    </tr>\n",
              "    <tr>\n",
              "      <th>3774</th>\n",
              "      <td>Items like antiques through it. Motor force Bl...</td>\n",
              "      <td>1</td>\n",
              "      <td>Items like antiques through it Motor force Bla...</td>\n",
              "    </tr>\n",
              "    <tr>\n",
              "      <th>8409</th>\n",
              "      <td>I did not receive the item.</td>\n",
              "      <td>1</td>\n",
              "      <td>I did not receive the item</td>\n",
              "    </tr>\n",
              "    <tr>\n",
              "      <th>6018</th>\n",
              "      <td>The product quality is not good</td>\n",
              "      <td>1</td>\n",
              "      <td>The product quality is not good</td>\n",
              "    </tr>\n",
              "  </tbody>\n",
              "</table>\n",
              "</div>"
            ],
            "text/plain": [
              "                                                  review  ...                                         clean_text\n",
              "10390                       Item different from picture   ...                       Item different from picture \n",
              "5549                      Dapet apes who like this again  ...                     Dapet apes who like this again\n",
              "3774   Items like antiques through it. Motor force Bl...  ...  Items like antiques through it Motor force Bla...\n",
              "8409                        I did not receive the item.   ...                        I did not receive the item \n",
              "6018                     The product quality is not good  ...                    The product quality is not good\n",
              "\n",
              "[5 rows x 3 columns]"
            ]
          },
          "metadata": {
            "tags": []
          },
          "execution_count": 13
        }
      ]
    },
    {
      "cell_type": "code",
      "metadata": {
        "colab": {
          "base_uri": "https://localhost:8080/",
          "height": 204
        },
        "id": "zfF1hJ2m4Cah",
        "outputId": "a766c490-53d9-4b70-8127-174a0b8b5f2e"
      },
      "source": [
        "#remove hyperlink\n",
        "data['clean_text'] = data['clean_text'].str.replace(r\"http\\S+\", \"\") \n",
        "#remove emoji\n",
        "data['clean_text'] = data['clean_text'].str.replace('[^\\w\\s#@/:%.,_-]', '', flags=re.UNICODE)\n",
        "#convert all words to lowercase\n",
        "data['clean_text'] = data['clean_text'].str.lower()\n",
        "data.head()"
      ],
      "execution_count": null,
      "outputs": [
        {
          "output_type": "execute_result",
          "data": {
            "text/html": [
              "<div>\n",
              "<style scoped>\n",
              "    .dataframe tbody tr th:only-of-type {\n",
              "        vertical-align: middle;\n",
              "    }\n",
              "\n",
              "    .dataframe tbody tr th {\n",
              "        vertical-align: top;\n",
              "    }\n",
              "\n",
              "    .dataframe thead th {\n",
              "        text-align: right;\n",
              "    }\n",
              "</style>\n",
              "<table border=\"1\" class=\"dataframe\">\n",
              "  <thead>\n",
              "    <tr style=\"text-align: right;\">\n",
              "      <th></th>\n",
              "      <th>review</th>\n",
              "      <th>rating</th>\n",
              "      <th>clean_text</th>\n",
              "    </tr>\n",
              "  </thead>\n",
              "  <tbody>\n",
              "    <tr>\n",
              "      <th>10390</th>\n",
              "      <td>Item different from picture</td>\n",
              "      <td>1</td>\n",
              "      <td>item different from picture</td>\n",
              "    </tr>\n",
              "    <tr>\n",
              "      <th>5549</th>\n",
              "      <td>Dapet apes who like this again</td>\n",
              "      <td>1</td>\n",
              "      <td>dapet apes who like this again</td>\n",
              "    </tr>\n",
              "    <tr>\n",
              "      <th>3774</th>\n",
              "      <td>Items like antiques through it. Motor force Bl...</td>\n",
              "      <td>1</td>\n",
              "      <td>items like antiques through it motor force bla...</td>\n",
              "    </tr>\n",
              "    <tr>\n",
              "      <th>8409</th>\n",
              "      <td>I did not receive the item.</td>\n",
              "      <td>1</td>\n",
              "      <td>i did not receive the item</td>\n",
              "    </tr>\n",
              "    <tr>\n",
              "      <th>6018</th>\n",
              "      <td>The product quality is not good</td>\n",
              "      <td>1</td>\n",
              "      <td>the product quality is not good</td>\n",
              "    </tr>\n",
              "  </tbody>\n",
              "</table>\n",
              "</div>"
            ],
            "text/plain": [
              "                                                  review  ...                                         clean_text\n",
              "10390                       Item different from picture   ...                       item different from picture \n",
              "5549                      Dapet apes who like this again  ...                     dapet apes who like this again\n",
              "3774   Items like antiques through it. Motor force Bl...  ...  items like antiques through it motor force bla...\n",
              "8409                        I did not receive the item.   ...                        i did not receive the item \n",
              "6018                     The product quality is not good  ...                    the product quality is not good\n",
              "\n",
              "[5 rows x 3 columns]"
            ]
          },
          "metadata": {
            "tags": []
          },
          "execution_count": 14
        }
      ]
    },
    {
      "cell_type": "code",
      "metadata": {
        "id": "uzh_3mZ95wGq"
      },
      "source": [
        "# not my original code (spanyol code lol)\n",
        "def recover_shortened_words(text):\n",
        "  \n",
        "    text = re.sub(r'\\bapaa\\b', 'apa', text)\n",
        "    \n",
        "    text = re.sub(r'\\bbsk\\b', 'besok', text)\n",
        "    text = re.sub(r'\\bbrngnya\\b', 'barangnya', text)\n",
        "    text = re.sub(r'\\bbrp\\b', 'berapa', text)\n",
        "    text = re.sub(r'\\bbgt\\b', 'banget', text)\n",
        "    text = re.sub(r'\\bbngt\\b', 'banget', text)\n",
        "    text = re.sub(r'\\bgini\\b', 'begini', text)\n",
        "    text = re.sub(r'\\bbrg\\b', 'barang', text)\n",
        "    \n",
        "    text = re.sub(r'\\bdtg\\b', 'datang', text)\n",
        "    text = re.sub(r'\\bd\\b', 'di', text)\n",
        "    text = re.sub(r'\\bsdh\\b', 'sudah', text)\n",
        "    text = re.sub(r'\\bdri\\b', 'dari', text)\n",
        "    text = re.sub(r'\\bdsni\\b', 'disini', text)\n",
        "    \n",
        "    text = re.sub(r'\\bgk\\b', 'gak', text)\n",
        "    \n",
        "    text = re.sub(r'\\bhrs\\b', 'harus', text)\n",
        "    \n",
        "    text = re.sub(r'\\bjd\\b', 'jadi', text)\n",
        "    text = re.sub(r'\\bjg\\b', 'juga', text)\n",
        "    text = re.sub(r'\\bjgn\\b', 'jangan', text)\n",
        "    \n",
        "    text = re.sub(r'\\blg\\b', 'lagi', text)\n",
        "    text = re.sub(r'\\blgi\\b', 'lagi', text)\n",
        "    text = re.sub(r'\\blbh\\b', 'lebih', text)\n",
        "    text = re.sub(r'\\blbih\\b', 'lebih', text)\n",
        "    \n",
        "    text = re.sub(r'\\bmksh\\b', 'makasih', text)\n",
        "    text = re.sub(r'\\bmna\\b', 'mana', text)\n",
        "    \n",
        "    text = re.sub(r'\\borg\\b', 'orang', text)\n",
        "    \n",
        "    text = re.sub(r'\\bpjg\\b', 'panjang', text)\n",
        "    \n",
        "    text = re.sub(r'\\bka\\b', 'kakak', text)\n",
        "    text = re.sub(r'\\bkk\\b', 'kakak', text)\n",
        "    text = re.sub(r'\\bklo\\b', 'kalau', text)\n",
        "    text = re.sub(r'\\bkmrn\\b', 'kemarin', text)\n",
        "    text = re.sub(r'\\bkmrin\\b', 'kemarin', text)\n",
        "    text = re.sub(r'\\bknp\\b', 'kenapa', text)\n",
        "    text = re.sub(r'\\bkcil\\b', 'kecil', text)\n",
        "    \n",
        "    text = re.sub(r'\\bgmn\\b', 'gimana', text)\n",
        "    text = re.sub(r'\\bgmna\\b', 'gimana', text)\n",
        "    \n",
        "    text = re.sub(r'\\btp\\b', 'tapi', text)\n",
        "    text = re.sub(r'\\btq\\b', 'thanks', text)\n",
        "    text = re.sub(r'\\btks\\b', 'thanks', text)\n",
        "    text = re.sub(r'\\btlg\\b', 'tolong', text)\n",
        "    text = re.sub(r'\\bgk\\b', 'tidak', text)\n",
        "    text = re.sub(r'\\bgak\\b', 'tidak', text)\n",
        "    text = re.sub(r'\\bgpp\\b', 'tidak apa apa', text)\n",
        "    text = re.sub(r'\\bgapapa\\b', 'tidak apa apa', text)\n",
        "    text = re.sub(r'\\bga\\b', 'tidak', text)\n",
        "    text = re.sub(r'\\btgl\\b', 'tanggal', text)\n",
        "    text = re.sub(r'\\btggl\\b', 'tanggal', text)\n",
        "    text = re.sub(r'\\bgamau\\b', 'tidak mau', text)\n",
        "    \n",
        "    text = re.sub(r'\\bsy\\b', 'saya', text)\n",
        "    text = re.sub(r'\\bsis\\b', 'sister', text)\n",
        "    text = re.sub(r'\\bsdgkan\\b', 'sedangkan', text)\n",
        "    text = re.sub(r'\\bmdh2n\\b', 'semoga', text)\n",
        "    text = re.sub(r'\\bsmoga\\b', 'semoga', text)\n",
        "    text = re.sub(r'\\bsmpai\\b', 'sampai', text)\n",
        "    text = re.sub(r'\\bnympe\\b', 'sampai', text)\n",
        "    text = re.sub(r'\\bdah\\b', 'sudah', text)\n",
        "    \n",
        "    text = re.sub(r'\\bberkali2\\b', 'repeated', text)\n",
        "  \n",
        "    text = re.sub(r'\\byg\\b', 'yang', text)\n",
        "    \n",
        "    return text"
      ],
      "execution_count": null,
      "outputs": []
    },
    {
      "cell_type": "code",
      "metadata": {
        "colab": {
          "base_uri": "https://localhost:8080/",
          "height": 204
        },
        "id": "zeNqFDgd7Wey",
        "outputId": "c26efaf0-2c07-4095-8ed2-ef5fe051a41a"
      },
      "source": [
        "data['clean_text'] = data['clean_text'].apply(recover_shortened_words)\n",
        "data.head()"
      ],
      "execution_count": null,
      "outputs": [
        {
          "output_type": "execute_result",
          "data": {
            "text/html": [
              "<div>\n",
              "<style scoped>\n",
              "    .dataframe tbody tr th:only-of-type {\n",
              "        vertical-align: middle;\n",
              "    }\n",
              "\n",
              "    .dataframe tbody tr th {\n",
              "        vertical-align: top;\n",
              "    }\n",
              "\n",
              "    .dataframe thead th {\n",
              "        text-align: right;\n",
              "    }\n",
              "</style>\n",
              "<table border=\"1\" class=\"dataframe\">\n",
              "  <thead>\n",
              "    <tr style=\"text-align: right;\">\n",
              "      <th></th>\n",
              "      <th>review</th>\n",
              "      <th>rating</th>\n",
              "      <th>clean_text</th>\n",
              "    </tr>\n",
              "  </thead>\n",
              "  <tbody>\n",
              "    <tr>\n",
              "      <th>10390</th>\n",
              "      <td>Item different from picture</td>\n",
              "      <td>1</td>\n",
              "      <td>item different from picture</td>\n",
              "    </tr>\n",
              "    <tr>\n",
              "      <th>5549</th>\n",
              "      <td>Dapet apes who like this again</td>\n",
              "      <td>1</td>\n",
              "      <td>dapet apes who like this again</td>\n",
              "    </tr>\n",
              "    <tr>\n",
              "      <th>3774</th>\n",
              "      <td>Items like antiques through it. Motor force Bl...</td>\n",
              "      <td>1</td>\n",
              "      <td>items like antiques through it motor force bla...</td>\n",
              "    </tr>\n",
              "    <tr>\n",
              "      <th>8409</th>\n",
              "      <td>I did not receive the item.</td>\n",
              "      <td>1</td>\n",
              "      <td>i did not receive the item</td>\n",
              "    </tr>\n",
              "    <tr>\n",
              "      <th>6018</th>\n",
              "      <td>The product quality is not good</td>\n",
              "      <td>1</td>\n",
              "      <td>the product quality is not good</td>\n",
              "    </tr>\n",
              "  </tbody>\n",
              "</table>\n",
              "</div>"
            ],
            "text/plain": [
              "                                                  review  ...                                         clean_text\n",
              "10390                       Item different from picture   ...                       item different from picture \n",
              "5549                      Dapet apes who like this again  ...                     dapet apes who like this again\n",
              "3774   Items like antiques through it. Motor force Bl...  ...  items like antiques through it motor force bla...\n",
              "8409                        I did not receive the item.   ...                        i did not receive the item \n",
              "6018                     The product quality is not good  ...                    the product quality is not good\n",
              "\n",
              "[5 rows x 3 columns]"
            ]
          },
          "metadata": {
            "tags": []
          },
          "execution_count": 16
        }
      ]
    },
    {
      "cell_type": "code",
      "metadata": {
        "colab": {
          "base_uri": "https://localhost:8080/"
        },
        "id": "ObXY_SqAK4gq",
        "outputId": "39f99653-3280-46c0-d380-0ae3f964e36f"
      },
      "source": [
        "un_words_count = pd.Series(' '.join(data.clean_text).split()).value_counts()\n",
        "len(un_words_count)"
      ],
      "execution_count": null,
      "outputs": [
        {
          "output_type": "execute_result",
          "data": {
            "text/plain": [
              "43146"
            ]
          },
          "metadata": {
            "tags": []
          },
          "execution_count": 18
        }
      ]
    },
    {
      "cell_type": "code",
      "metadata": {
        "colab": {
          "base_uri": "https://localhost:8080/"
        },
        "id": "1GtDQMNbLJRh",
        "outputId": "b8e016f5-b2a1-454c-f67c-d8e1736470b9"
      },
      "source": [
        "un_words_count.head(10)"
      ],
      "execution_count": null,
      "outputs": [
        {
          "output_type": "execute_result",
          "data": {
            "text/plain": [
              "the         38726\n",
              "good        29923\n",
              "is          22511\n",
              "product     22055\n",
              "quality     19670\n",
              "very        15685\n",
              "not         14241\n",
              "delivery    14126\n",
              "to          13508\n",
              "of          11519\n",
              "dtype: int64"
            ]
          },
          "metadata": {
            "tags": []
          },
          "execution_count": 19
        }
      ]
    },
    {
      "cell_type": "markdown",
      "metadata": {
        "id": "zSv-Rj8QDzLu"
      },
      "source": [
        "# Modeling"
      ]
    },
    {
      "cell_type": "code",
      "metadata": {
        "id": "er4NY6F9DyZ0"
      },
      "source": [
        "import tensorflow as tf\n",
        "from tensorflow.keras.preprocessing.text import Tokenizer\n",
        "from tensorflow.keras.preprocessing.sequence import pad_sequences\n",
        "from tensorflow.keras.models import Sequential\n",
        "from tensorflow.keras.layers import Dense, Flatten, LSTM, Dropout, Activation, Embedding, Bidirectional, SpatialDropout1D\n",
        "from sklearn.model_selection import train_test_split\n",
        "from tensorflow.compat.v1.keras.layers import CuDNNLSTM"
      ],
      "execution_count": null,
      "outputs": []
    },
    {
      "cell_type": "code",
      "metadata": {
        "colab": {
          "base_uri": "https://localhost:8080/"
        },
        "id": "3MNdMgzDUw6v",
        "outputId": "a0bfb8c8-6014-4d81-e875-705a39aef40e"
      },
      "source": [
        "print(tf.__version__)"
      ],
      "execution_count": null,
      "outputs": [
        {
          "output_type": "stream",
          "text": [
            "2.4.1\n"
          ],
          "name": "stdout"
        }
      ]
    },
    {
      "cell_type": "code",
      "metadata": {
        "id": "MMuXjdeUEZvh"
      },
      "source": [
        "# set hyperparameter\n",
        "vocab_size = 7000 # make the top list of words (common words)\n",
        "embedding_dim = 32\n",
        "max_length = 354\n",
        "oov_tok = '<OOV>' # OOV = Out of Vocabulary"
      ],
      "execution_count": null,
      "outputs": []
    },
    {
      "cell_type": "code",
      "metadata": {
        "colab": {
          "base_uri": "https://localhost:8080/"
        },
        "id": "PjjoWoMtEn5H",
        "outputId": "c56712f7-d49d-46a2-f446-38efaed9920e"
      },
      "source": [
        "# splitting dataset\n",
        "X = data['clean_text']\n",
        "Y = data['rating']\n",
        "X_train, X_test, y_train, y_test = train_test_split(X,Y, test_size = 0.10, random_state = 42)\n",
        "print(X_train.shape,y_train.shape)\n",
        "print(X_test.shape,y_test.shape)"
      ],
      "execution_count": null,
      "outputs": [
        {
          "output_type": "stream",
          "text": [
            "(57172,) (57172,)\n",
            "(6353,) (6353,)\n"
          ],
          "name": "stdout"
        }
      ]
    },
    {
      "cell_type": "code",
      "metadata": {
        "id": "P8OvbAWhFPfU"
      },
      "source": [
        "# set tokenizer\n",
        "tokenizer = Tokenizer(num_words = vocab_size, oov_token=oov_tok)\n",
        "tokenizer.fit_on_texts(X_train)\n",
        "word_index = tokenizer.word_index"
      ],
      "execution_count": null,
      "outputs": []
    },
    {
      "cell_type": "code",
      "metadata": {
        "id": "Th6e9tiIFiCG"
      },
      "source": [
        " # training set\n",
        "train_sequences = tokenizer.texts_to_sequences(X_train)\n",
        "train_padded = pad_sequences(train_sequences, maxlen=max_length)"
      ],
      "execution_count": null,
      "outputs": []
    },
    {
      "cell_type": "code",
      "metadata": {
        "id": "ShqGGbrVF4Iy"
      },
      "source": [
        "# validation set\n",
        "validation_sequences = tokenizer.texts_to_sequences(X_test)\n",
        "validation_padded = pad_sequences(validation_sequences, maxlen=max_length)"
      ],
      "execution_count": null,
      "outputs": []
    },
    {
      "cell_type": "code",
      "metadata": {
        "colab": {
          "base_uri": "https://localhost:8080/"
        },
        "id": "aDO1N8WiEnpL",
        "outputId": "9586fd0d-4d05-4277-e38a-aed16ac7dd15"
      },
      "source": [
        "from keras.utils import to_categorical\n",
        "print(set(data['rating']))\n",
        "#training_label_seq = np.asarray(train_labels).astype(np.float32)\n",
        "#validation_label_seq = np.asarray(validation_labels).astype(np.float32)\n",
        "training_label_seq = to_categorical(y_train)\n",
        "validation_label_seq = to_categorical(y_test)"
      ],
      "execution_count": null,
      "outputs": [
        {
          "output_type": "stream",
          "text": [
            "{1, 2, 3, 4, 5}\n"
          ],
          "name": "stdout"
        }
      ]
    },
    {
      "cell_type": "code",
      "metadata": {
        "colab": {
          "base_uri": "https://localhost:8080/"
        },
        "id": "VB9JeFCIIhZu",
        "outputId": "d7eefe11-79ab-43a6-b65d-c3732ef8b5d1"
      },
      "source": [
        "# dropout to avoid overfitting\n",
        "# softmax as multiclass clf\n",
        "model = Sequential()\n",
        "\n",
        "model.add(Embedding(input_dim=vocab_size, output_dim=32, input_length=354))\n",
        "model.add(Dropout(0.5))\n",
        "model.add(Bidirectional(CuDNNLSTM(100)))\n",
        "model.add(Dense(6, activation='softmax'))\n",
        "\n",
        "model.summary()"
      ],
      "execution_count": null,
      "outputs": [
        {
          "output_type": "stream",
          "text": [
            "Model: \"sequential\"\n",
            "_________________________________________________________________\n",
            "Layer (type)                 Output Shape              Param #   \n",
            "=================================================================\n",
            "embedding (Embedding)        (None, 354, 32)           224000    \n",
            "_________________________________________________________________\n",
            "dropout (Dropout)            (None, 354, 32)           0         \n",
            "_________________________________________________________________\n",
            "bidirectional (Bidirectional (None, 200)               107200    \n",
            "_________________________________________________________________\n",
            "dense (Dense)                (None, 6)                 1206      \n",
            "=================================================================\n",
            "Total params: 332,406\n",
            "Trainable params: 332,406\n",
            "Non-trainable params: 0\n",
            "_________________________________________________________________\n"
          ],
          "name": "stdout"
        }
      ]
    },
    {
      "cell_type": "code",
      "metadata": {
        "id": "pkpigOU8JZZ_"
      },
      "source": [
        "# pakai sparse_categorical_crossentropy kalau ada 1D integer hot encode\n",
        "# categorical_crossentropy for 2D w/o hot encode\n",
        "model.compile(\n",
        "    loss='categorical_crossentropy',\n",
        "    optimizer='Adam',\n",
        "    metrics=['accuracy']\n",
        ")"
      ],
      "execution_count": null,
      "outputs": []
    },
    {
      "cell_type": "markdown",
      "metadata": {
        "id": "GwUjwuFHN_GY"
      },
      "source": [
        "## Training process"
      ]
    },
    {
      "cell_type": "code",
      "metadata": {
        "colab": {
          "base_uri": "https://localhost:8080/"
        },
        "id": "4yx6xKHFNMQK",
        "outputId": "590774d2-4b6b-4a34-ba5f-4a0dd614ec94"
      },
      "source": [
        "phrase_len = X_train.apply(lambda p: len(p.split(' ')))\n",
        "phrase_len.max()"
      ],
      "execution_count": null,
      "outputs": [
        {
          "output_type": "execute_result",
          "data": {
            "text/plain": [
              "354"
            ]
          },
          "metadata": {
            "tags": []
          },
          "execution_count": 64
        }
      ]
    },
    {
      "cell_type": "code",
      "metadata": {
        "colab": {
          "base_uri": "https://localhost:8080/"
        },
        "id": "so1CCPYlNLu7",
        "outputId": "bc002500-82e0-4829-9f4f-f65c9fcdb668"
      },
      "source": [
        "print(train_padded.shape)\n",
        "print(training_label_seq.shape)\n",
        "print(validation_padded.shape)\n",
        "print(validation_label_seq.shape)"
      ],
      "execution_count": null,
      "outputs": [
        {
          "output_type": "stream",
          "text": [
            "(132129, 200)\n",
            "(132129, 6)\n",
            "(14682, 200)\n",
            "(14682, 6)\n"
          ],
          "name": "stdout"
        }
      ]
    },
    {
      "cell_type": "code",
      "metadata": {
        "colab": {
          "base_uri": "https://localhost:8080/"
        },
        "id": "AsXKjtRPJ3Mw",
        "outputId": "962c93ef-efc3-4bc1-d68f-659226f39602"
      },
      "source": [
        "training_label_seq"
      ],
      "execution_count": null,
      "outputs": [
        {
          "output_type": "execute_result",
          "data": {
            "text/plain": [
              "array([[0., 0., 0., 1., 0., 0.],\n",
              "       [0., 0., 0., 1., 0., 0.],\n",
              "       [0., 0., 0., 0., 0., 1.],\n",
              "       ...,\n",
              "       [0., 0., 0., 0., 1., 0.],\n",
              "       [0., 0., 0., 0., 0., 1.],\n",
              "       [0., 0., 0., 0., 0., 1.]], dtype=float32)"
            ]
          },
          "metadata": {
            "tags": []
          },
          "execution_count": 61
        }
      ]
    },
    {
      "cell_type": "code",
      "metadata": {
        "colab": {
          "base_uri": "https://localhost:8080/"
        },
        "id": "mvEMVPKYJa20",
        "outputId": "953f3760-c84a-4818-ec0f-e96918a5c1b7"
      },
      "source": [
        "num_epochs = 10\n",
        "history = model.fit(train_padded, training_label_seq, epochs=num_epochs, batch_size=10, validation_data=(validation_padded, validation_label_seq), verbose=1)"
      ],
      "execution_count": null,
      "outputs": [
        {
          "output_type": "stream",
          "text": [
            "Epoch 1/10\n",
            "5718/5718 [==============================] - 182s 26ms/step - loss: 1.2996 - accuracy: 0.4014 - val_loss: 1.0882 - val_accuracy: 0.4987\n",
            "Epoch 2/10\n",
            "5718/5718 [==============================] - 149s 26ms/step - loss: 1.0584 - accuracy: 0.5168 - val_loss: 1.0711 - val_accuracy: 0.5068\n",
            "Epoch 3/10\n",
            "5718/5718 [==============================] - 151s 26ms/step - loss: 1.0135 - accuracy: 0.5327 - val_loss: 1.0761 - val_accuracy: 0.4982\n",
            "Epoch 4/10\n",
            "5718/5718 [==============================] - 153s 27ms/step - loss: 0.9857 - accuracy: 0.5453 - val_loss: 1.0765 - val_accuracy: 0.5119\n",
            "Epoch 5/10\n",
            "5718/5718 [==============================] - 151s 26ms/step - loss: 0.9635 - accuracy: 0.5581 - val_loss: 1.0725 - val_accuracy: 0.5046\n",
            "Epoch 6/10\n",
            "5718/5718 [==============================] - 151s 26ms/step - loss: 0.9494 - accuracy: 0.5645 - val_loss: 1.0746 - val_accuracy: 0.5098\n",
            "Epoch 7/10\n",
            "5718/5718 [==============================] - 151s 26ms/step - loss: 0.9331 - accuracy: 0.5708 - val_loss: 1.0897 - val_accuracy: 0.5050\n",
            "Epoch 8/10\n",
            "5718/5718 [==============================] - 150s 26ms/step - loss: 0.9090 - accuracy: 0.5805 - val_loss: 1.0776 - val_accuracy: 0.5089\n",
            "Epoch 9/10\n",
            "5718/5718 [==============================] - 150s 26ms/step - loss: 0.9019 - accuracy: 0.5909 - val_loss: 1.0921 - val_accuracy: 0.5046\n",
            "Epoch 10/10\n",
            "5718/5718 [==============================] - 148s 26ms/step - loss: 0.8833 - accuracy: 0.5995 - val_loss: 1.0973 - val_accuracy: 0.5100\n"
          ],
          "name": "stdout"
        }
      ]
    },
    {
      "cell_type": "code",
      "metadata": {
        "colab": {
          "base_uri": "https://localhost:8080/",
          "height": 548
        },
        "id": "WUuBizAMVrl7",
        "outputId": "fe4d0703-31fe-4ef3-9cec-fbfdc992c37b"
      },
      "source": [
        "# plot history accuracy\n",
        "def plot_graphs(history, string):\n",
        "  plt.plot(history.history[string])\n",
        "  plt.plot(history.history['val_'+string])\n",
        "  plt.xlabel(\"Epochs\")\n",
        "  plt.ylabel(string)\n",
        "  plt.legend([string, 'val_'+string])\n",
        "  plt.show()\n",
        "  \n",
        "plot_graphs(history, \"accuracy\")\n",
        "plot_graphs(history, \"loss\")"
      ],
      "execution_count": null,
      "outputs": [
        {
          "output_type": "display_data",
          "data": {
            "image/png": "[encoded data removed]",
            "text/plain": [
              "<Figure size 432x288 with 1 Axes>"
            ]
          },
          "metadata": {
            "tags": [],
            "needs_background": "light"
          }
        },
        {
          "output_type": "display_data",
          "data": {
            "image/png": "[encoded data removed]",
            "text/plain": [
              "<Figure size 432x288 with 1 Axes>"
            ]
          },
          "metadata": {
            "tags": [],
            "needs_background": "light"
          }
        }
      ]
    },
    {
      "cell_type": "markdown",
      "metadata": {
        "id": "pH2NrgqbX0sz"
      },
      "source": [
        "# Predict"
      ]
    },
    {
      "cell_type": "code",
      "metadata": {
        "colab": {
          "base_uri": "https://localhost:8080/"
        },
        "id": "Xj4KuyvK7czV",
        "outputId": "fc76cf35-55d3-4ad5-cdb8-b40a1740e5d0"
      },
      "source": [
        "# predict 1 - fake generated review\n",
        "txt = [\"barangnya bagus, seller oke dan terpercaya, mantaplah pokoknya.\"]\n",
        "seq = tokenizer.texts_to_sequences(txt)\n",
        "padded = pad_sequences(seq, maxlen=max_length)\n",
        "pred = model.predict(padded)\n",
        "print(np.argmax(pred))"
      ],
      "execution_count": null,
      "outputs": [
        {
          "output_type": "stream",
          "text": [
            "4\n"
          ],
          "name": "stdout"
        }
      ]
    },
    {
      "cell_type": "code",
      "metadata": {
        "colab": {
          "base_uri": "https://localhost:8080/"
        },
        "id": "Rc7yjutRFYUH",
        "outputId": "c94099b7-5c31-4b16-b399-451ca2444094"
      },
      "source": [
        "# predict 2 - fake generated review\n",
        "txt = [\"dissapointed, seller galak dan barang telat nyampe.\"]\n",
        "seq = tokenizer.texts_to_sequences(txt)\n",
        "padded = pad_sequences(seq, maxlen=max_length)\n",
        "pred = model.predict(padded)\n",
        "print(np.argmax(pred))"
      ],
      "execution_count": null,
      "outputs": [
        {
          "output_type": "stream",
          "text": [
            "1\n"
          ],
          "name": "stdout"
        }
      ]
    },
    {
      "cell_type": "code",
      "metadata": {
        "colab": {
          "base_uri": "https://localhost:8080/"
        },
        "id": "cUq4JKhUWZ5c",
        "outputId": "88aa57ef-5800-486f-b013-e632e35b58bd"
      },
      "source": [
        "# predict 3 - taken from shopee real customer review with 3 stars rating\n",
        "txt = [\"Kl aku LBh suka yg real gini tmn tmn,kadang ad jg fg yg suka konyol kadang bajunya\n",
        " wrna merah di edit look nya ala tone kuning gt pas baju merah nya berubah jd kuning,\n",
        " lahhh percuma donk manten Ny pilih merah bajunya di edit kuning 😤😤😤\"]\n",
        "seq = tokenizer.texts_to_sequences(txt)\n",
        "padded = pad_sequences(seq, maxlen=max_length)\n",
        "pred = model.predict(padded)\n",
        "print(np.argmax(pred))"
      ],
      "execution_count": null,
      "outputs": [
        {
          "output_type": "stream",
          "text": [
            "4\n"
          ],
          "name": "stdout"
        }
      ]
    },
    {
      "cell_type": "code",
      "metadata": {
        "colab": {
          "base_uri": "https://localhost:8080/"
        },
        "id": "D9HRpKLpXOC9",
        "outputId": "dc259fd2-9df5-449f-df2e-ef1a976f1422"
      },
      "source": [
        "# predict 4 - taken from shopee real customer review with 2 stars rating\n",
        "txt = [\"Alhamdulillah paket sudah saya terima. Tpi saya kecewa, Krn pesen warna mustard koq \n",
        "datangnya coklat? Pdhl bwt dress code acara\"]\n",
        "seq = tokenizer.texts_to_sequences(txt)\n",
        "padded = pad_sequences(seq, maxlen=max_length)\n",
        "pred = model.predict(padded)\n",
        "print(np.argmax(pred))"
      ],
      "execution_count": null,
      "outputs": [
        {
          "output_type": "stream",
          "text": [
            "2\n"
          ],
          "name": "stdout"
        }
      ]
    },
    {
      "cell_type": "code",
      "metadata": {
        "colab": {
          "base_uri": "https://localhost:8080/"
        },
        "id": "l4auFB6cWfvM",
        "outputId": "9a9d46e7-69bd-4467-ab30-a6272398fd65"
      },
      "source": [
        "# predict 5 - taken from shopee real customer review with 4 stars rating\n",
        "txt = [\"Harga sama kualitas sesuailah yaaaa....suka sekali sama modelnya warna navy nya juga bagus...\n",
        "ga bladus....meskipun ada sobekannya dikit....tolong diperhatikan lagi yaaaa....\"]\n",
        "seq = tokenizer.texts_to_sequences(txt)\n",
        "padded = pad_sequences(seq, maxlen=max_length)\n",
        "pred = model.predict(padded)\n",
        "print(np.argmax(pred))"
      ],
      "execution_count": null,
      "outputs": [
        {
          "output_type": "stream",
          "text": [
            "3\n"
          ],
          "name": "stdout"
        }
      ]
    },
    {
      "cell_type": "markdown",
      "metadata": {
        "id": "IlVAd7YGaW0L"
      },
      "source": [
        "# Save Model"
      ]
    },
    {
      "cell_type": "code",
      "metadata": {
        "colab": {
          "base_uri": "https://localhost:8080/"
        },
        "id": "wFQSBm-3XZEz",
        "outputId": "893972dd-52a3-4a65-9e08-0f6778689eae"
      },
      "source": [
        "# save model, just in case\n",
        "model.save('lstm_multiclass_text_1')"
      ],
      "execution_count": null,
      "outputs": [
        {
          "output_type": "stream",
          "text": [
            "WARNING:absl:Found untraced functions such as lstm_cell_1_layer_call_and_return_conditional_losses, lstm_cell_1_layer_call_fn, lstm_cell_2_layer_call_and_return_conditional_losses, lstm_cell_2_layer_call_fn, lstm_cell_1_layer_call_fn while saving (showing 5 of 10). These functions will not be directly callable after loading.\n",
            "WARNING:absl:Found untraced functions such as lstm_cell_1_layer_call_and_return_conditional_losses, lstm_cell_1_layer_call_fn, lstm_cell_2_layer_call_and_return_conditional_losses, lstm_cell_2_layer_call_fn, lstm_cell_1_layer_call_fn while saving (showing 5 of 10). These functions will not be directly callable after loading.\n"
          ],
          "name": "stderr"
        },
        {
          "output_type": "stream",
          "text": [
            "INFO:tensorflow:Assets written to: lstm_multiclass_text_1/assets\n"
          ],
          "name": "stdout"
        },
        {
          "output_type": "stream",
          "text": [
            "INFO:tensorflow:Assets written to: lstm_multiclass_text_1/assets\n"
          ],
          "name": "stderr"
        }
      ]
    },
    {
      "cell_type": "code",
      "metadata": {
        "id": "Vdt-A45iZe6L"
      },
      "source": [
        "# to load the model\n",
        "#new_model = tf.keras.models.load_model('lstm_multiclass_text_1')"
      ],
      "execution_count": null,
      "outputs": []
    },
    {
      "cell_type": "markdown",
      "metadata": {
        "id": "phXmaaErancU"
      },
      "source": [
        "Save with HDF5 format"
      ]
    },
    {
      "cell_type": "code",
      "metadata": {
        "colab": {
          "base_uri": "https://localhost:8080/"
        },
        "id": "Q_l1rOZrabTI",
        "outputId": "ed685bd7-5483-4b43-9a2a-cbd38a20b728"
      },
      "source": [
        "!pip install pyyaml h5py  # Required to save models in HDF5 format"
      ],
      "execution_count": null,
      "outputs": [
        {
          "output_type": "stream",
          "text": [
            "Requirement already satisfied: pyyaml in /usr/local/lib/python3.7/dist-packages (3.13)\n",
            "Requirement already satisfied: h5py in /usr/local/lib/python3.7/dist-packages (2.10.0)\n",
            "Requirement already satisfied: six in /usr/local/lib/python3.7/dist-packages (from h5py) (1.15.0)\n",
            "Requirement already satisfied: numpy>=1.7 in /usr/local/lib/python3.7/dist-packages (from h5py) (1.19.5)\n"
          ],
          "name": "stdout"
        }
      ]
    },
    {
      "cell_type": "code",
      "metadata": {
        "id": "ntJ-ISl3ab_g"
      },
      "source": [
        "# Save the entire model to a HDF5 file.\n",
        "# The '.h5' extension indicates that the model should be saved to HDF5.\n",
        "model.save('lstm_final.h5') "
      ],
      "execution_count": null,
      "outputs": []
    },
    {
      "cell_type": "code",
      "metadata": {
        "id": "g2gO6ZthawsU",
        "colab": {
          "base_uri": "https://localhost:8080/"
        },
        "outputId": "1dfec40c-7f59-4eee-d4be-8f3f7de4a7bc"
      },
      "source": [
        "# Recreate the exact same model, including its weights and the optimizer\n",
        "new_model = tf.keras.models.load_model('lstm_final.h5')\n",
        "\n",
        "# Show the model architecture\n",
        "new_model.summary()"
      ],
      "execution_count": null,
      "outputs": [
        {
          "output_type": "stream",
          "text": [
            "Model: \"sequential_1\"\n",
            "_________________________________________________________________\n",
            "Layer (type)                 Output Shape              Param #   \n",
            "=================================================================\n",
            "embedding_1 (Embedding)      (None, None, 32)          160000    \n",
            "_________________________________________________________________\n",
            "dropout_1 (Dropout)          (None, None, 32)          0         \n",
            "_________________________________________________________________\n",
            "bidirectional_1 (Bidirection (None, 64)                16896     \n",
            "_________________________________________________________________\n",
            "dense_1 (Dense)              (None, 6)                 390       \n",
            "=================================================================\n",
            "Total params: 177,286\n",
            "Trainable params: 177,286\n",
            "Non-trainable params: 0\n",
            "_________________________________________________________________\n"
          ],
          "name": "stdout"
        }
      ]
    },
    {
      "cell_type": "markdown",
      "metadata": {
        "id": "TBixfJ_Ju7-O"
      },
      "source": [
        "# Submission file"
      ]
    },
    {
      "cell_type": "code",
      "metadata": {
        "id": "NXBUPmAVu96q",
        "colab": {
          "base_uri": "https://localhost:8080/",
          "height": 204
        },
        "outputId": "237ac2c0-d9b8-4137-a59a-351fc064a8c0"
      },
      "source": [
        "df_test = pd.read_csv('test.csv')\n",
        "df_test.head()"
      ],
      "execution_count": null,
      "outputs": [
        {
          "output_type": "execute_result",
          "data": {
            "text/html": [
              "<div>\n",
              "<style scoped>\n",
              "    .dataframe tbody tr th:only-of-type {\n",
              "        vertical-align: middle;\n",
              "    }\n",
              "\n",
              "    .dataframe tbody tr th {\n",
              "        vertical-align: top;\n",
              "    }\n",
              "\n",
              "    .dataframe thead th {\n",
              "        text-align: right;\n",
              "    }\n",
              "</style>\n",
              "<table border=\"1\" class=\"dataframe\">\n",
              "  <thead>\n",
              "    <tr style=\"text-align: right;\">\n",
              "      <th></th>\n",
              "      <th>review_id</th>\n",
              "      <th>review</th>\n",
              "    </tr>\n",
              "  </thead>\n",
              "  <tbody>\n",
              "    <tr>\n",
              "      <th>0</th>\n",
              "      <td>1</td>\n",
              "      <td>Great danger, cool, motif and cantik2 jg model...</td>\n",
              "    </tr>\n",
              "    <tr>\n",
              "      <th>1</th>\n",
              "      <td>2</td>\n",
              "      <td>One of the shades don't fit well</td>\n",
              "    </tr>\n",
              "    <tr>\n",
              "      <th>2</th>\n",
              "      <td>3</td>\n",
              "      <td>Very comfortable</td>\n",
              "    </tr>\n",
              "    <tr>\n",
              "      <th>3</th>\n",
              "      <td>4</td>\n",
              "      <td>Fast delivery. Product expiry is on Dec 2022. ...</td>\n",
              "    </tr>\n",
              "    <tr>\n",
              "      <th>4</th>\n",
              "      <td>5</td>\n",
              "      <td>it's sooooo cute! i like playing with the glit...</td>\n",
              "    </tr>\n",
              "  </tbody>\n",
              "</table>\n",
              "</div>"
            ],
            "text/plain": [
              "   review_id                                             review\n",
              "0          1  Great danger, cool, motif and cantik2 jg model...\n",
              "1          2                   One of the shades don't fit well\n",
              "2          3                                   Very comfortable\n",
              "3          4  Fast delivery. Product expiry is on Dec 2022. ...\n",
              "4          5  it's sooooo cute! i like playing with the glit..."
            ]
          },
          "metadata": {
            "tags": []
          },
          "execution_count": 39
        }
      ]
    },
    {
      "cell_type": "code",
      "metadata": {
        "colab": {
          "base_uri": "https://localhost:8080/"
        },
        "id": "F2a33icnSGcN",
        "outputId": "9813b6e7-9ac4-4e2b-f726-8cc87c79dfb4"
      },
      "source": [
        "import time\n",
        "from datetime import timedelta\n",
        "start_time = time.time()\n",
        "\n",
        "pred = []\n",
        "for i in df_test['review']:\n",
        "  a = tokenizer.texts_to_sequences([i])\n",
        "  b = pad_sequences(a, maxlen=max_length)\n",
        "  c = model.predict(b)\n",
        "  result = np.argmax(c)\n",
        "  pred.append(result)\n",
        "\n",
        "submission = pd.concat([df_test['review_id'], pd.Series(pred, name='rating')], axis=1)\n",
        "submission.to_csv('sample_LSTM.csv', index=False)\n",
        "submission.head(11)\n",
        "\n",
        "elapsed_time_secs = time.time() - start_time\n",
        "msg = \"Execution took: %s secs (Wall clock time)\" % timedelta(seconds=round(elapsed_time_secs))\n",
        "print(msg) "
      ],
      "execution_count": null,
      "outputs": [
        {
          "output_type": "stream",
          "text": [
            "Execution took: 0:34:31 secs (Wall clock time)\n"
          ],
          "name": "stdout"
        }
      ]
    },
    {
      "cell_type": "code",
      "metadata": {
        "colab": {
          "base_uri": "https://localhost:8080/",
          "height": 204
        },
        "id": "6WsAlJASShaA",
        "outputId": "19908e18-b7cd-445f-d3ad-a9ac3d1fd054"
      },
      "source": [
        "submission.head()"
      ],
      "execution_count": null,
      "outputs": [
        {
          "output_type": "execute_result",
          "data": {
            "text/html": [
              "<div>\n",
              "<style scoped>\n",
              "    .dataframe tbody tr th:only-of-type {\n",
              "        vertical-align: middle;\n",
              "    }\n",
              "\n",
              "    .dataframe tbody tr th {\n",
              "        vertical-align: top;\n",
              "    }\n",
              "\n",
              "    .dataframe thead th {\n",
              "        text-align: right;\n",
              "    }\n",
              "</style>\n",
              "<table border=\"1\" class=\"dataframe\">\n",
              "  <thead>\n",
              "    <tr style=\"text-align: right;\">\n",
              "      <th></th>\n",
              "      <th>review_id</th>\n",
              "      <th>rating</th>\n",
              "    </tr>\n",
              "  </thead>\n",
              "  <tbody>\n",
              "    <tr>\n",
              "      <th>0</th>\n",
              "      <td>1</td>\n",
              "      <td>4</td>\n",
              "    </tr>\n",
              "    <tr>\n",
              "      <th>1</th>\n",
              "      <td>2</td>\n",
              "      <td>2</td>\n",
              "    </tr>\n",
              "    <tr>\n",
              "      <th>2</th>\n",
              "      <td>3</td>\n",
              "      <td>4</td>\n",
              "    </tr>\n",
              "    <tr>\n",
              "      <th>3</th>\n",
              "      <td>4</td>\n",
              "      <td>4</td>\n",
              "    </tr>\n",
              "    <tr>\n",
              "      <th>4</th>\n",
              "      <td>5</td>\n",
              "      <td>4</td>\n",
              "    </tr>\n",
              "  </tbody>\n",
              "</table>\n",
              "</div>"
            ],
            "text/plain": [
              "   review_id  rating\n",
              "0          1       4\n",
              "1          2       2\n",
              "2          3       4\n",
              "3          4       4\n",
              "4          5       4"
            ]
          },
          "metadata": {
            "tags": []
          },
          "execution_count": 41
        }
      ]
    },
    {
      "cell_type": "code",
      "metadata": {
        "colab": {
          "base_uri": "https://localhost:8080/",
          "height": 204
        },
        "id": "ZKquXwleaw0M",
        "outputId": "57568060-1634-4d58-c6f6-4bb68cd1e154"
      },
      "source": [
        "submission.tail()"
      ],
      "execution_count": null,
      "outputs": [
        {
          "output_type": "execute_result",
          "data": {
            "text/html": [
              "<div>\n",
              "<style scoped>\n",
              "    .dataframe tbody tr th:only-of-type {\n",
              "        vertical-align: middle;\n",
              "    }\n",
              "\n",
              "    .dataframe tbody tr th {\n",
              "        vertical-align: top;\n",
              "    }\n",
              "\n",
              "    .dataframe thead th {\n",
              "        text-align: right;\n",
              "    }\n",
              "</style>\n",
              "<table border=\"1\" class=\"dataframe\">\n",
              "  <thead>\n",
              "    <tr style=\"text-align: right;\">\n",
              "      <th></th>\n",
              "      <th>review_id</th>\n",
              "      <th>rating</th>\n",
              "    </tr>\n",
              "  </thead>\n",
              "  <tbody>\n",
              "    <tr>\n",
              "      <th>60422</th>\n",
              "      <td>60423</td>\n",
              "      <td>4</td>\n",
              "    </tr>\n",
              "    <tr>\n",
              "      <th>60423</th>\n",
              "      <td>60424</td>\n",
              "      <td>2</td>\n",
              "    </tr>\n",
              "    <tr>\n",
              "      <th>60424</th>\n",
              "      <td>60425</td>\n",
              "      <td>4</td>\n",
              "    </tr>\n",
              "    <tr>\n",
              "      <th>60425</th>\n",
              "      <td>60426</td>\n",
              "      <td>4</td>\n",
              "    </tr>\n",
              "    <tr>\n",
              "      <th>60426</th>\n",
              "      <td>60427</td>\n",
              "      <td>4</td>\n",
              "    </tr>\n",
              "  </tbody>\n",
              "</table>\n",
              "</div>"
            ],
            "text/plain": [
              "       review_id  rating\n",
              "60422      60423       4\n",
              "60423      60424       2\n",
              "60424      60425       4\n",
              "60425      60426       4\n",
              "60426      60427       4"
            ]
          },
          "metadata": {
            "tags": []
          },
          "execution_count": 42
        }
      ]
    },
    {
      "cell_type": "code",
      "metadata": {
        "colab": {
          "base_uri": "https://localhost:8080/"
        },
        "id": "Imwv6wXRayT3",
        "outputId": "64b001df-9833-440d-bba3-21e498beb3e0"
      },
      "source": [
        "submission['rating'].value_counts()"
      ],
      "execution_count": null,
      "outputs": [
        {
          "output_type": "execute_result",
          "data": {
            "text/plain": [
              "4    27910\n",
              "5     9356\n",
              "3     9286\n",
              "2     7107\n",
              "1     6768\n",
              "Name: rating, dtype: int64"
            ]
          },
          "metadata": {
            "tags": []
          },
          "execution_count": 44
        }
      ]
    },
    {
      "cell_type": "code",
      "metadata": {
        "id": "THNzG-2na2RJ"
      },
      "source": [
        ""
      ],
      "execution_count": null,
      "outputs": []
    },
    {
      "cell_type": "markdown",
      "metadata": {
        "id": "Ogmw358XovMi"
      },
      "source": [
        "# Modeling 2 (Tryout)"
      ]
    },
    {
      "cell_type": "code",
      "metadata": {
        "colab": {
          "base_uri": "https://localhost:8080/"
        },
        "id": "BttcB4XmMcp7",
        "outputId": "621a8762-03fc-42c8-baf0-3156fc44f8a8"
      },
      "source": [
        "# model 2 test\n",
        "# dropout to avoid overfitting\n",
        "# softmax as multiclass clf\n",
        "model = Sequential()\n",
        "model.add(Embedding(input_dim=vocab_size, output_dim=embedding_dim, input_length=354))\n",
        "model.add(SpatialDropout1D(0.3))\n",
        "model.add(LSTM(256, dropout = 0.3, recurrent_dropout = 0.3))\n",
        "model.add(Dense(256, activation = 'relu'))\n",
        "model.add(Dropout(0.3))\n",
        "model.add(Dense(6, activation = 'softmax'))\n",
        "model.summary()"
      ],
      "execution_count": null,
      "outputs": [
        {
          "output_type": "stream",
          "text": [
            "Model: \"sequential_12\"\n",
            "_________________________________________________________________\n",
            "Layer (type)                 Output Shape              Param #   \n",
            "=================================================================\n",
            "embedding_12 (Embedding)     (None, 354, 32)           160000    \n",
            "_________________________________________________________________\n",
            "spatial_dropout1d_1 (Spatial (None, 354, 32)           0         \n",
            "_________________________________________________________________\n",
            "lstm_12 (LSTM)               (None, 256)               295936    \n",
            "_________________________________________________________________\n",
            "dense_13 (Dense)             (None, 256)               65792     \n",
            "_________________________________________________________________\n",
            "dropout_12 (Dropout)         (None, 256)               0         \n",
            "_________________________________________________________________\n",
            "dense_14 (Dense)             (None, 6)                 1542      \n",
            "=================================================================\n",
            "Total params: 523,270\n",
            "Trainable params: 523,270\n",
            "Non-trainable params: 0\n",
            "_________________________________________________________________\n"
          ],
          "name": "stdout"
        }
      ]
    }
  ]
}