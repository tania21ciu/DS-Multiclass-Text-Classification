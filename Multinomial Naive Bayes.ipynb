{
 "cells": [
  {
   "cell_type": "markdown",
   "metadata": {
    "id": "DSjyYlnkoat3"
   },
   "source": [
    "## Import Dataset"
   ]
  },
  {
   "cell_type": "code",
   "execution_count": 1,
   "metadata": {
    "id": "1IT7DG8NoauI"
   },
   "outputs": [],
   "source": [
    "import pandas as pd\n",
    "import numpy as np\n",
    "import matplotlib.pyplot as plt\n",
    "import seaborn as sns"
   ]
  },
  {
   "cell_type": "code",
   "execution_count": 2,
   "metadata": {
    "colab": {
     "base_uri": "https://localhost:8080/",
     "height": 204
    },
    "executionInfo": {
     "elapsed": 1922,
     "status": "ok",
     "timestamp": 1621327479086,
     "user": {
      "displayName": "Jericho Siahaya",
      "photoUrl": "https://lh3.googleusercontent.com/a-/AOh14GjBl11TaSe0bXoQ7xQkcZNxn1OJbalLYPuyqYa1kg=s64",
      "userId": "13508393199100041109"
     },
     "user_tz": -420
    },
    "id": "xy192ehooauK",
    "outputId": "33b60c8d-bcc8-43f3-d61d-5762db153c87"
   },
   "outputs": [
    {
     "data": {
      "text/html": [
       "<div>\n",
       "<style scoped>\n",
       "    .dataframe tbody tr th:only-of-type {\n",
       "        vertical-align: middle;\n",
       "    }\n",
       "\n",
       "    .dataframe tbody tr th {\n",
       "        vertical-align: top;\n",
       "    }\n",
       "\n",
       "    .dataframe thead th {\n",
       "        text-align: right;\n",
       "    }\n",
       "</style>\n",
       "<table border=\"1\" class=\"dataframe\">\n",
       "  <thead>\n",
       "    <tr style=\"text-align: right;\">\n",
       "      <th></th>\n",
       "      <th>review_id</th>\n",
       "      <th>review</th>\n",
       "      <th>rating</th>\n",
       "    </tr>\n",
       "  </thead>\n",
       "  <tbody>\n",
       "    <tr>\n",
       "      <th>0</th>\n",
       "      <td>0</td>\n",
       "      <td>Ga disappointed neat products .. Meletot Hilsn...</td>\n",
       "      <td>1</td>\n",
       "    </tr>\n",
       "    <tr>\n",
       "      <th>1</th>\n",
       "      <td>1</td>\n",
       "      <td>Rdtanya replace broken glass, broken chargernya</td>\n",
       "      <td>1</td>\n",
       "    </tr>\n",
       "    <tr>\n",
       "      <th>2</th>\n",
       "      <td>2</td>\n",
       "      <td>Nyesel bngt dsni shopping antecedent photo mes...</td>\n",
       "      <td>1</td>\n",
       "    </tr>\n",
       "    <tr>\n",
       "      <th>3</th>\n",
       "      <td>3</td>\n",
       "      <td>Sent a light blue suit goods ga want a refund</td>\n",
       "      <td>1</td>\n",
       "    </tr>\n",
       "    <tr>\n",
       "      <th>4</th>\n",
       "      <td>4</td>\n",
       "      <td>Pendants came with dents and scratches on its ...</td>\n",
       "      <td>1</td>\n",
       "    </tr>\n",
       "  </tbody>\n",
       "</table>\n",
       "</div>"
      ],
      "text/plain": [
       "   review_id                                             review  rating\n",
       "0          0  Ga disappointed neat products .. Meletot Hilsn...       1\n",
       "1          1    Rdtanya replace broken glass, broken chargernya       1\n",
       "2          2  Nyesel bngt dsni shopping antecedent photo mes...       1\n",
       "3          3      Sent a light blue suit goods ga want a refund       1\n",
       "4          4  Pendants came with dents and scratches on its ...       1"
      ]
     },
     "execution_count": 2,
     "metadata": {},
     "output_type": "execute_result"
    }
   ],
   "source": [
    "# import dataset\n",
    "df = pd.read_csv('train.csv')\n",
    "df.head()"
   ]
  },
  {
   "cell_type": "code",
   "execution_count": 3,
   "metadata": {
    "colab": {
     "base_uri": "https://localhost:8080/",
     "height": 204
    },
    "executionInfo": {
     "elapsed": 1050,
     "status": "ok",
     "timestamp": 1621328334034,
     "user": {
      "displayName": "Jericho Siahaya",
      "photoUrl": "https://lh3.googleusercontent.com/a-/AOh14GjBl11TaSe0bXoQ7xQkcZNxn1OJbalLYPuyqYa1kg=s64",
      "userId": "13508393199100041109"
     },
     "user_tz": -420
    },
    "id": "IdeTax9eoauN",
    "outputId": "ccec3a39-9946-4ec9-fca3-60590b0d8943"
   },
   "outputs": [
    {
     "data": {
      "text/html": [
       "<div>\n",
       "<style scoped>\n",
       "    .dataframe tbody tr th:only-of-type {\n",
       "        vertical-align: middle;\n",
       "    }\n",
       "\n",
       "    .dataframe tbody tr th {\n",
       "        vertical-align: top;\n",
       "    }\n",
       "\n",
       "    .dataframe thead th {\n",
       "        text-align: right;\n",
       "    }\n",
       "</style>\n",
       "<table border=\"1\" class=\"dataframe\">\n",
       "  <thead>\n",
       "    <tr style=\"text-align: right;\">\n",
       "      <th></th>\n",
       "      <th>review_id</th>\n",
       "      <th>review</th>\n",
       "    </tr>\n",
       "  </thead>\n",
       "  <tbody>\n",
       "    <tr>\n",
       "      <th>0</th>\n",
       "      <td>1</td>\n",
       "      <td>Great danger, cool, motif and cantik2 jg model...</td>\n",
       "    </tr>\n",
       "    <tr>\n",
       "      <th>1</th>\n",
       "      <td>2</td>\n",
       "      <td>One of the shades don't fit well</td>\n",
       "    </tr>\n",
       "    <tr>\n",
       "      <th>2</th>\n",
       "      <td>3</td>\n",
       "      <td>Very comfortable</td>\n",
       "    </tr>\n",
       "    <tr>\n",
       "      <th>3</th>\n",
       "      <td>4</td>\n",
       "      <td>Fast delivery. Product expiry is on Dec 2022. ...</td>\n",
       "    </tr>\n",
       "    <tr>\n",
       "      <th>4</th>\n",
       "      <td>5</td>\n",
       "      <td>it's sooooo cute! i like playing with the glit...</td>\n",
       "    </tr>\n",
       "  </tbody>\n",
       "</table>\n",
       "</div>"
      ],
      "text/plain": [
       "   review_id                                             review\n",
       "0          1  Great danger, cool, motif and cantik2 jg model...\n",
       "1          2                   One of the shades don't fit well\n",
       "2          3                                   Very comfortable\n",
       "3          4  Fast delivery. Product expiry is on Dec 2022. ...\n",
       "4          5  it's sooooo cute! i like playing with the glit..."
      ]
     },
     "execution_count": 3,
     "metadata": {},
     "output_type": "execute_result"
    }
   ],
   "source": [
    "#Import dataset\n",
    "df1 = pd.read_csv('test.csv')\n",
    "df1.head()"
   ]
  },
  {
   "cell_type": "markdown",
   "metadata": {
    "id": "d-oLN_1poauP"
   },
   "source": [
    "## Exploration Data Train"
   ]
  },
  {
   "cell_type": "code",
   "execution_count": 4,
   "metadata": {
    "colab": {
     "base_uri": "https://localhost:8080/"
    },
    "executionInfo": {
     "elapsed": 832,
     "status": "ok",
     "timestamp": 1621327497811,
     "user": {
      "displayName": "Jericho Siahaya",
      "photoUrl": "https://lh3.googleusercontent.com/a-/AOh14GjBl11TaSe0bXoQ7xQkcZNxn1OJbalLYPuyqYa1kg=s64",
      "userId": "13508393199100041109"
     },
     "user_tz": -420
    },
    "id": "Uv7z16hGoauQ",
    "outputId": "96c6dfa8-2da7-48ac-a9a4-35befa35dea1"
   },
   "outputs": [
    {
     "name": "stdout",
     "output_type": "stream",
     "text": [
      "Shape of data:  (146811, 3)\n"
     ]
    }
   ],
   "source": [
    "print('Shape of data: ', df.shape)\n",
    "\n",
    "# 146811 rows, 3 colums"
   ]
  },
  {
   "cell_type": "code",
   "execution_count": 5,
   "metadata": {
    "id": "PWfilHEPoauQ",
    "outputId": "aca4f2ab-b188-4e02-f1bd-893dbd2d8bb4"
   },
   "outputs": [
    {
     "data": {
      "text/plain": [
       "review_id    0\n",
       "review       0\n",
       "rating       0\n",
       "dtype: int64"
      ]
     },
     "execution_count": 5,
     "metadata": {},
     "output_type": "execute_result"
    }
   ],
   "source": [
    "df.isnull().sum()\n",
    "\n",
    "# there is no null values "
   ]
  },
  {
   "cell_type": "code",
   "execution_count": 6,
   "metadata": {
    "id": "IuuG9Bb2oauR",
    "outputId": "3bcd5f57-eca0-474a-fd55-3d45bc13a192"
   },
   "outputs": [
    {
     "name": "stdout",
     "output_type": "stream",
     "text": [
      "Rating types:  [1 2 3 4 5]\n",
      "Rating proportion:\n",
      " 4    41865\n",
      "5    41515\n",
      "3    35941\n",
      "1    14785\n",
      "2    12705\n",
      "Name: rating, dtype: int64\n"
     ]
    }
   ],
   "source": [
    "print('Rating types: ', df['rating'].unique())\n",
    "print('Rating proportion:\\n',df['rating'].value_counts())"
   ]
  },
  {
   "cell_type": "code",
   "execution_count": 7,
   "metadata": {
    "id": "7IAYKBrJoauS",
    "outputId": "c4ebfe08-60b4-4dd1-fe53-c5c0be7fb822"
   },
   "outputs": [
    {
     "data": {
      "text/plain": [
       "Text(0, 0.5, 'Count')"
      ]
     },
     "execution_count": 7,
     "metadata": {},
     "output_type": "execute_result"
    },
    {
     "data": {
      "image/png": "[encoded data removed]",
      "text/plain": [
       "<Figure size 432x288 with 1 Axes>"
      ]
     },
     "metadata": {
      "needs_background": "light"
     },
     "output_type": "display_data"
    }
   ],
   "source": [
    "values = df['rating'].value_counts().sort_index()\n",
    "idx = df['rating'].unique()\n",
    "clrs = ['grey' if (x < max(values)) else 'blue' for x in values ]\n",
    "ax = sns.barplot(x=idx, y=values, palette=clrs) # color=clrs)\n",
    "ax.set_title('Rating Distribution')\n",
    "ax.set_xlabel('Rating')\n",
    "ax.set_ylabel('Count')\n",
    "\n",
    "# people mostly give 4 rating"
   ]
  },
  {
   "cell_type": "code",
   "execution_count": 8,
   "metadata": {
    "id": "wyqI-ucYoauT",
    "outputId": "8565c87b-31a9-4dc8-c561-dd966b8db6fd"
   },
   "outputs": [
    {
     "data": {
      "text/plain": [
       "Text(0.5, 1.0, 'Number of characters present in each sentence')"
      ]
     },
     "execution_count": 8,
     "metadata": {},
     "output_type": "execute_result"
    },
    {
     "data": {
      "image/png": "[encoded data removed]",
      "text/plain": [
       "<Figure size 432x288 with 1 Axes>"
      ]
     },
     "metadata": {
      "needs_background": "light"
     },
     "output_type": "display_data"
    }
   ],
   "source": [
    "ax = df['review'].str.len().hist()\n",
    "plt.title('Number of characters present in each sentence')"
   ]
  },
  {
   "cell_type": "markdown",
   "metadata": {
    "id": "N3UzAtAtoauU"
   },
   "source": [
    "Array-nya gak mampu, kalau bisa di-run pakai laptop/PC yang memadai"
   ]
  },
  {
   "cell_type": "markdown",
   "metadata": {
    "id": "4Gp5prdsoauU"
   },
   "source": [
    "## Exploration Data Test"
   ]
  },
  {
   "cell_type": "code",
   "execution_count": 9,
   "metadata": {
    "id": "2ZnfjyRHoauV",
    "outputId": "b9d684d0-b3d9-4603-c6f4-937d199fe766"
   },
   "outputs": [
    {
     "name": "stdout",
     "output_type": "stream",
     "text": [
      "Shape of data:  (60427, 2)\n"
     ]
    }
   ],
   "source": [
    "print('Shape of data: ', df1.shape)\n",
    "\n",
    "# 60427 rows, 2 colums"
   ]
  },
  {
   "cell_type": "code",
   "execution_count": 10,
   "metadata": {
    "id": "2GnxbyUBoauW",
    "outputId": "a746ade3-f876-47fc-f7d3-40f7bd96327e"
   },
   "outputs": [
    {
     "data": {
      "text/plain": [
       "review_id    0\n",
       "review       0\n",
       "dtype: int64"
      ]
     },
     "execution_count": 10,
     "metadata": {},
     "output_type": "execute_result"
    }
   ],
   "source": [
    "df1.isnull().sum()\n",
    "\n",
    "# there is no null values "
   ]
  },
  {
   "cell_type": "code",
   "execution_count": 11,
   "metadata": {
    "id": "2GO_IlKboauW",
    "outputId": "9deae114-f798-4b15-f92d-80b640aa1fac"
   },
   "outputs": [
    {
     "data": {
      "text/plain": [
       "Text(0.5, 1.0, 'Number of characters present in each sentence')"
      ]
     },
     "execution_count": 11,
     "metadata": {},
     "output_type": "execute_result"
    },
    {
     "data": {
      "image/png": "[encoded data removed]",
      "text/plain": [
       "<Figure size 432x288 with 1 Axes>"
      ]
     },
     "metadata": {
      "needs_background": "light"
     },
     "output_type": "display_data"
    }
   ],
   "source": [
    "ax = df1['review'].str.len().hist()\n",
    "plt.title('Number of characters present in each sentence')"
   ]
  },
  {
   "cell_type": "markdown",
   "metadata": {
    "id": "yDEaFbYtoauX"
   },
   "source": [
    "## Pre-Processing Function"
   ]
  },
  {
   "cell_type": "code",
   "execution_count": 12,
   "metadata": {
    "colab": {
     "base_uri": "https://localhost:8080/"
    },
    "executionInfo": {
     "elapsed": 5514,
     "status": "ok",
     "timestamp": 1621327563808,
     "user": {
      "displayName": "Jericho Siahaya",
      "photoUrl": "https://lh3.googleusercontent.com/a-/AOh14GjBl11TaSe0bXoQ7xQkcZNxn1OJbalLYPuyqYa1kg=s64",
      "userId": "13508393199100041109"
     },
     "user_tz": -420
    },
    "id": "YwiNKRUCptSS",
    "outputId": "643402f5-1532-4fb7-c32c-a4077dea1586"
   },
   "outputs": [
    {
     "name": "stdout",
     "output_type": "stream",
     "text": [
      "Note: you may need to restart the kernel to use updated packages.\n"
     ]
    },
    {
     "name": "stderr",
     "output_type": "stream",
     "text": [
      "'C:\\Users\\Tania' is not recognized as an internal or external command,\n",
      "operable program or batch file.\n"
     ]
    }
   ],
   "source": [
    "pip install Sastrawi"
   ]
  },
  {
   "cell_type": "code",
   "execution_count": 13,
   "metadata": {
    "id": "6WvcYrDIoauX"
   },
   "outputs": [],
   "source": [
    "import string\n",
    "import re\n",
    "import nltk\n",
    "\n",
    "def remove_punctuation(text):\n",
    "    no_punct=[words for words in text if words not in string.punctuation]\n",
    "    words_wo_punct=''.join(no_punct)\n",
    "    return words_wo_punct\n",
    "\n",
    "# not my original code (spanyol code)\n",
    "def recover_shortened_words(text):\n",
    "  \n",
    "    text = re.sub(r'\\bapaa\\b', 'apa', text)\n",
    "    \n",
    "    text = re.sub(r'\\bbsk\\b', 'besok', text)\n",
    "    text = re.sub(r'\\bbrngnya\\b', 'barangnya', text)\n",
    "    text = re.sub(r'\\bbrp\\b', 'berapa', text)\n",
    "    text = re.sub(r'\\bbgt\\b', 'banget', text)\n",
    "    text = re.sub(r'\\bbngt\\b', 'banget', text)\n",
    "    text = re.sub(r'\\bgini\\b', 'begini', text)\n",
    "    text = re.sub(r'\\bbrg\\b', 'barang', text)\n",
    "    \n",
    "    text = re.sub(r'\\bdtg\\b', 'datang', text)\n",
    "    text = re.sub(r'\\bd\\b', 'di', text)\n",
    "    text = re.sub(r'\\bsdh\\b', 'sudah', text)\n",
    "    text = re.sub(r'\\bdri\\b', 'dari', text)\n",
    "    text = re.sub(r'\\bdsni\\b', 'disini', text)\n",
    "    \n",
    "    text = re.sub(r'\\bgk\\b', 'gak', text)\n",
    "    \n",
    "    text = re.sub(r'\\bhrs\\b', 'harus', text)\n",
    "    \n",
    "    text = re.sub(r'\\bjd\\b', 'jadi', text)\n",
    "    text = re.sub(r'\\bjg\\b', 'juga', text)\n",
    "    text = re.sub(r'\\bjgn\\b', 'jangan', text)\n",
    "    \n",
    "    text = re.sub(r'\\blg\\b', 'lagi', text)\n",
    "    text = re.sub(r'\\blgi\\b', 'lagi', text)\n",
    "    text = re.sub(r'\\blbh\\b', 'lebih', text)\n",
    "    text = re.sub(r'\\blbih\\b', 'lebih', text)\n",
    "    \n",
    "    text = re.sub(r'\\bmksh\\b', 'makasih', text)\n",
    "    text = re.sub(r'\\bmna\\b', 'mana', text)\n",
    "    \n",
    "    text = re.sub(r'\\borg\\b', 'orang', text)\n",
    "    \n",
    "    text = re.sub(r'\\bpjg\\b', 'panjang', text)\n",
    "    \n",
    "    text = re.sub(r'\\bka\\b', 'kakak', text)\n",
    "    text = re.sub(r'\\bkk\\b', 'kakak', text)\n",
    "    text = re.sub(r'\\bklo\\b', 'kalau', text)\n",
    "    text = re.sub(r'\\bkmrn\\b', 'kemarin', text)\n",
    "    text = re.sub(r'\\bkmrin\\b', 'kemarin', text)\n",
    "    text = re.sub(r'\\bknp\\b', 'kenapa', text)\n",
    "    text = re.sub(r'\\bkcil\\b', 'kecil', text)\n",
    "    \n",
    "    text = re.sub(r'\\bgmn\\b', 'gimana', text)\n",
    "    text = re.sub(r'\\bgmna\\b', 'gimana', text)\n",
    "    \n",
    "    text = re.sub(r'\\btp\\b', 'tapi', text)\n",
    "    text = re.sub(r'\\btq\\b', 'thanks', text)\n",
    "    text = re.sub(r'\\btks\\b', 'thanks', text)\n",
    "    text = re.sub(r'\\btlg\\b', 'tolong', text)\n",
    "    text = re.sub(r'\\bgk\\b', 'tidak', text)\n",
    "    text = re.sub(r'\\bgak\\b', 'tidak', text)\n",
    "    text = re.sub(r'\\bgpp\\b', 'tidak apa apa', text)\n",
    "    text = re.sub(r'\\bgapapa\\b', 'tidak apa apa', text)\n",
    "    text = re.sub(r'\\bga\\b', 'tidak', text)\n",
    "    text = re.sub(r'\\btgl\\b', 'tanggal', text)\n",
    "    text = re.sub(r'\\btggl\\b', 'tanggal', text)\n",
    "    text = re.sub(r'\\bgamau\\b', 'tidak mau', text)\n",
    "    \n",
    "    text = re.sub(r'\\bsy\\b', 'saya', text)\n",
    "    text = re.sub(r'\\bsis\\b', 'sister', text)\n",
    "    text = re.sub(r'\\bsdgkan\\b', 'sedangkan', text)\n",
    "    text = re.sub(r'\\bmdh2n\\b', 'semoga', text)\n",
    "    text = re.sub(r'\\bsmoga\\b', 'semoga', text)\n",
    "    text = re.sub(r'\\bsmpai\\b', 'sampai', text)\n",
    "    text = re.sub(r'\\bnympe\\b', 'sampai', text)\n",
    "    text = re.sub(r'\\bdah\\b', 'sudah', text)\n",
    "    \n",
    "    text = re.sub(r'\\bberkali2\\b', 'repeated', text)\n",
    "  \n",
    "    text = re.sub(r'\\byg\\b', 'yang', text)\n",
    "    \n",
    "    return text\n",
    "\n",
    "#nltk.download('punkt')\n",
    "def tokenize(text):\n",
    "    split=re.split(\"\\W+\",text) \n",
    "    return split\n",
    "\n",
    "#nltk.download('stopwords')\n",
    "def remove_stopwords(text):\n",
    "    text=[word for word in text if word not in stopword]\n",
    "    return text\n",
    "\n",
    "from Sastrawi.Stemmer.StemmerFactory import StemmerFactory\n",
    "from nltk.stem import WordNetLemmatizer\n",
    "lemmatizer = WordNetLemmatizer() # for en\n",
    "factory = StemmerFactory() # for id\n",
    "stemmer = factory.create_stemmer() # for id\n",
    "def stem_lemma(text):\n",
    "    new_token = []\n",
    "    new_token.append(lemmatizer.lemmatize(text))\n",
    "    new_token.append(stemmer.stem(text))\n",
    "    return new_token    \n",
    "\n",
    "from nltk.tokenize.treebank import TreebankWordDetokenizer\n",
    "detok = TreebankWordDetokenizer()\n",
    "\n",
    "from sklearn.feature_extraction.text import TfidfVectorizer\n",
    "bow_vectorizer = TfidfVectorizer(lowercase=False, ngram_range=(1,2), analyzer=lambda t:t, min_df=5, sublinear_tf=True)"
   ]
  },
  {
   "cell_type": "markdown",
   "metadata": {
    "id": "4zfHPTryoaua"
   },
   "source": [
    "## Pre-Processing Data Train"
   ]
  },
  {
   "cell_type": "code",
   "execution_count": 14,
   "metadata": {
    "id": "WD_4UHOYFJJd",
    "outputId": "f8bbdb58-742c-4379-e4e1-50155252a75b"
   },
   "outputs": [
    {
     "name": "stdout",
     "output_type": "stream",
     "text": [
      "Rating proportion:\n",
      " 5    12705\n",
      "4    12705\n",
      "3    12705\n",
      "2    12705\n",
      "1    12705\n",
      "Name: rating, dtype: int64\n"
     ]
    }
   ],
   "source": [
    "#Balancing Data Train\n",
    "df = df.groupby('rating')\n",
    "df = pd.DataFrame(df.apply(lambda x: x.sample(df.size().min()).reset_index(drop=True)))\n",
    "print('Rating proportion:\\n',df['rating'].value_counts())"
   ]
  },
  {
   "cell_type": "code",
   "execution_count": 15,
   "metadata": {
    "id": "4wnmtv7YFJJe",
    "outputId": "d9e27b34-bea9-4c0f-96af-5b54563b567e"
   },
   "outputs": [
    {
     "data": {
      "text/plain": [
       "Text(0, 0.5, 'Count')"
      ]
     },
     "execution_count": 15,
     "metadata": {},
     "output_type": "execute_result"
    },
    {
     "data": {
      "image/png": "[encoded data removed]",
      "text/plain": [
       "<Figure size 432x288 with 1 Axes>"
      ]
     },
     "metadata": {
      "needs_background": "light"
     },
     "output_type": "display_data"
    }
   ],
   "source": [
    "values1 = df['rating'].value_counts().sort_index()\n",
    "idx1 = df['rating'].unique()\n",
    "clrs1 = ['grey' if (x < max(values)) else 'blue' for x in values ]\n",
    "ax = sns.barplot(x=idx1, y=values1, palette=clrs1) # color=clrs)\n",
    "ax.set_title('Rating Distribution')\n",
    "ax.set_xlabel('Rating')\n",
    "ax.set_ylabel('Count')"
   ]
  },
  {
   "cell_type": "code",
   "execution_count": 16,
   "metadata": {},
   "outputs": [
    {
     "data": {
      "text/html": [
       "<div>\n",
       "<style scoped>\n",
       "    .dataframe tbody tr th:only-of-type {\n",
       "        vertical-align: middle;\n",
       "    }\n",
       "\n",
       "    .dataframe tbody tr th {\n",
       "        vertical-align: top;\n",
       "    }\n",
       "\n",
       "    .dataframe thead th {\n",
       "        text-align: right;\n",
       "    }\n",
       "</style>\n",
       "<table border=\"1\" class=\"dataframe\">\n",
       "  <thead>\n",
       "    <tr style=\"text-align: right;\">\n",
       "      <th></th>\n",
       "      <th>review_id</th>\n",
       "      <th>review</th>\n",
       "      <th>rating</th>\n",
       "    </tr>\n",
       "  </thead>\n",
       "  <tbody>\n",
       "    <tr>\n",
       "      <th>0</th>\n",
       "      <td>9717</td>\n",
       "      <td>The product quality is not good</td>\n",
       "      <td>1</td>\n",
       "    </tr>\n",
       "    <tr>\n",
       "      <th>1</th>\n",
       "      <td>7449</td>\n",
       "      <td>goods to be at a xbape elok..brng dh pn some d...</td>\n",
       "      <td>1</td>\n",
       "    </tr>\n",
       "    <tr>\n",
       "      <th>2</th>\n",
       "      <td>12664</td>\n",
       "      <td>Brands are not in accordance with product phot...</td>\n",
       "      <td>1</td>\n",
       "    </tr>\n",
       "    <tr>\n",
       "      <th>3</th>\n",
       "      <td>1174</td>\n",
       "      <td>Product quality is poor. Tailoring miss, peng...</td>\n",
       "      <td>1</td>\n",
       "    </tr>\n",
       "    <tr>\n",
       "      <th>4</th>\n",
       "      <td>4790</td>\n",
       "      <td>Delivery speed is not good. Less good seller ...</td>\n",
       "      <td>1</td>\n",
       "    </tr>\n",
       "    <tr>\n",
       "      <th>...</th>\n",
       "      <td>...</td>\n",
       "      <td>...</td>\n",
       "      <td>...</td>\n",
       "    </tr>\n",
       "    <tr>\n",
       "      <th>63520</th>\n",
       "      <td>137894</td>\n",
       "      <td>Awesome awesome merchandise quality merchandi...</td>\n",
       "      <td>5</td>\n",
       "    </tr>\n",
       "    <tr>\n",
       "      <th>63521</th>\n",
       "      <td>115680</td>\n",
       "      <td>Very cute sister shop owner 😋😍</td>\n",
       "      <td>5</td>\n",
       "    </tr>\n",
       "    <tr>\n",
       "      <th>63522</th>\n",
       "      <td>118254</td>\n",
       "      <td>Mksh kk. Amanah always yes. Love bgt. For us s...</td>\n",
       "      <td>5</td>\n",
       "    </tr>\n",
       "    <tr>\n",
       "      <th>63523</th>\n",
       "      <td>115928</td>\n",
       "      <td>Excellent product quality, original product, t...</td>\n",
       "      <td>5</td>\n",
       "    </tr>\n",
       "    <tr>\n",
       "      <th>63524</th>\n",
       "      <td>111516</td>\n",
       "      <td>FIRST PLACE IN DOUBT ... TURN BANGETTTT Pake ....</td>\n",
       "      <td>5</td>\n",
       "    </tr>\n",
       "  </tbody>\n",
       "</table>\n",
       "<p>63525 rows × 3 columns</p>\n",
       "</div>"
      ],
      "text/plain": [
       "       review_id                                             review  rating\n",
       "0           9717                    The product quality is not good       1\n",
       "1           7449  goods to be at a xbape elok..brng dh pn some d...       1\n",
       "2          12664  Brands are not in accordance with product phot...       1\n",
       "3           1174   Product quality is poor. Tailoring miss, peng...       1\n",
       "4           4790   Delivery speed is not good. Less good seller ...       1\n",
       "...          ...                                                ...     ...\n",
       "63520     137894   Awesome awesome merchandise quality merchandi...       5\n",
       "63521     115680                     Very cute sister shop owner 😋😍       5\n",
       "63522     118254  Mksh kk. Amanah always yes. Love bgt. For us s...       5\n",
       "63523     115928  Excellent product quality, original product, t...       5\n",
       "63524     111516  FIRST PLACE IN DOUBT ... TURN BANGETTTT Pake ....       5\n",
       "\n",
       "[63525 rows x 3 columns]"
      ]
     },
     "execution_count": 16,
     "metadata": {},
     "output_type": "execute_result"
    }
   ],
   "source": [
    "df.reset_index(drop=True, inplace=True)\n",
    "df"
   ]
  },
  {
   "cell_type": "code",
   "execution_count": 17,
   "metadata": {
    "colab": {
     "base_uri": "https://localhost:8080/",
     "height": 272
    },
    "executionInfo": {
     "elapsed": 46631,
     "status": "ok",
     "timestamp": 1621328154051,
     "user": {
      "displayName": "Jericho Siahaya",
      "photoUrl": "https://lh3.googleusercontent.com/a-/AOh14GjBl11TaSe0bXoQ7xQkcZNxn1OJbalLYPuyqYa1kg=s64",
      "userId": "13508393199100041109"
     },
     "user_tz": -420
    },
    "id": "cNa17eO1oauc",
    "outputId": "353fca94-65ce-4371-89f9-45dc3efa15d8"
   },
   "outputs": [
    {
     "name": "stderr",
     "output_type": "stream",
     "text": [
      "[nltk_data] Downloading package stopwords to C:\\Users\\Tania\n",
      "[nltk_data]     Ciu\\AppData\\Roaming\\nltk_data...\n",
      "[nltk_data]   Package stopwords is already up-to-date!\n",
      "[nltk_data] Downloading package wordnet to C:\\Users\\Tania\n",
      "[nltk_data]     Ciu\\AppData\\Roaming\\nltk_data...\n",
      "[nltk_data]   Package wordnet is already up-to-date!\n"
     ]
    },
    {
     "data": {
      "text/html": [
       "<div>\n",
       "<style scoped>\n",
       "    .dataframe tbody tr th:only-of-type {\n",
       "        vertical-align: middle;\n",
       "    }\n",
       "\n",
       "    .dataframe tbody tr th {\n",
       "        vertical-align: top;\n",
       "    }\n",
       "\n",
       "    .dataframe thead th {\n",
       "        text-align: right;\n",
       "    }\n",
       "</style>\n",
       "<table border=\"1\" class=\"dataframe\">\n",
       "  <thead>\n",
       "    <tr style=\"text-align: right;\">\n",
       "      <th></th>\n",
       "      <th>clean_text</th>\n",
       "      <th>clean_text_tokenize_stopwords_lemma</th>\n",
       "      <th>rating</th>\n",
       "    </tr>\n",
       "  </thead>\n",
       "  <tbody>\n",
       "    <tr>\n",
       "      <th>0</th>\n",
       "      <td>the product quality is not good</td>\n",
       "      <td>[, product, quality, good]</td>\n",
       "      <td>1</td>\n",
       "    </tr>\n",
       "    <tr>\n",
       "      <th>1</th>\n",
       "      <td>goods to be at a xbape elokbrng dh pn some dam...</td>\n",
       "      <td>[good, xbape, elokbrng, dh, pn, damaged, xde, ...</td>\n",
       "      <td>1</td>\n",
       "    </tr>\n",
       "    <tr>\n",
       "      <th>2</th>\n",
       "      <td>brands are not in accordance with product phot...</td>\n",
       "      <td>[brand, accordance, product, photo, pair, give...</td>\n",
       "      <td>1</td>\n",
       "    </tr>\n",
       "    <tr>\n",
       "      <th>3</th>\n",
       "      <td>product quality is poor tailoring miss pengel...</td>\n",
       "      <td>[, product, quality, poor, tailoring, miss, pe...</td>\n",
       "      <td>1</td>\n",
       "    </tr>\n",
       "    <tr>\n",
       "      <th>4</th>\n",
       "      <td>delivery speed is not good less good seller r...</td>\n",
       "      <td>[, delivery, speed, good, le, good, seller, re...</td>\n",
       "      <td>1</td>\n",
       "    </tr>\n",
       "  </tbody>\n",
       "</table>\n",
       "</div>"
      ],
      "text/plain": [
       "                                          clean_text  \\\n",
       "0                    the product quality is not good   \n",
       "1  goods to be at a xbape elokbrng dh pn some dam...   \n",
       "2  brands are not in accordance with product phot...   \n",
       "3   product quality is poor tailoring miss pengel...   \n",
       "4   delivery speed is not good less good seller r...   \n",
       "\n",
       "                 clean_text_tokenize_stopwords_lemma  rating  \n",
       "0                         [, product, quality, good]       1  \n",
       "1  [good, xbape, elokbrng, dh, pn, damaged, xde, ...       1  \n",
       "2  [brand, accordance, product, photo, pair, give...       1  \n",
       "3  [, product, quality, poor, tailoring, miss, pe...       1  \n",
       "4  [, delivery, speed, good, le, good, seller, re...       1  "
      ]
     },
     "execution_count": 17,
     "metadata": {},
     "output_type": "execute_result"
    }
   ],
   "source": [
    "data = df[['review', 'rating']]\n",
    "#remove punctuation\n",
    "data['clean_text']=data['review'].apply(lambda x: remove_punctuation(x))\n",
    "#remove hyperlink\n",
    "data['clean_text'] = data['clean_text'].str.replace(r\"http\\S+\", \"\") \n",
    "#remove emoji\n",
    "data['clean_text'] = data['clean_text'].str.replace('[^\\w\\s#@/:%.,_-]', '', flags=re.UNICODE)\n",
    "#convert all words to lowercase\n",
    "data['clean_text'] = data['clean_text'].str.lower()\n",
    "data['clean_text'] = data['clean_text'].apply(recover_shortened_words)\n",
    "#tokenization\n",
    "data['clean_text_tokenize']=data['clean_text'].apply(lambda x: tokenize(x.lower()))\n",
    "#remove stopwords\n",
    "import nltk\n",
    "nltk.download('stopwords')\n",
    "stopword = nltk.corpus.stopwords.words('english')\n",
    "data['clean_text_tokenize_stopwords'] = data['clean_text_tokenize'].apply(lambda x: remove_stopwords(x))\n",
    "#stemming\n",
    "nltk.download('wordnet')\n",
    "data['clean_text_tokenize_stopwords_lemma'] = data['clean_text_tokenize_stopwords'].apply(lambda x: [lemmatizer.lemmatize(i) for i in x])\n",
    "#data['clean_text_stopwords'] = data['clean_text_tokenize_stopwords'].apply(lambda x: detok.detokenize(x))\n",
    "df_clean = data[['clean_text', 'clean_text_tokenize_stopwords_lemma','rating']]\n",
    "df_clean.head(5)"
   ]
  },
  {
   "cell_type": "markdown",
   "metadata": {
    "id": "Va2cvShloaue"
   },
   "source": [
    "## Pre-Processing Data Test"
   ]
  },
  {
   "cell_type": "code",
   "execution_count": 18,
   "metadata": {
    "colab": {
     "base_uri": "https://localhost:8080/",
     "height": 272
    },
    "executionInfo": {
     "elapsed": 19181,
     "status": "ok",
     "timestamp": 1621328364052,
     "user": {
      "displayName": "Jericho Siahaya",
      "photoUrl": "https://lh3.googleusercontent.com/a-/AOh14GjBl11TaSe0bXoQ7xQkcZNxn1OJbalLYPuyqYa1kg=s64",
      "userId": "13508393199100041109"
     },
     "user_tz": -420
    },
    "id": "gHxNcczBoauf",
    "outputId": "01fc9809-5d0f-4aaf-ec41-2bcacedb2241"
   },
   "outputs": [
    {
     "name": "stderr",
     "output_type": "stream",
     "text": [
      "[nltk_data] Downloading package stopwords to C:\\Users\\Tania\n",
      "[nltk_data]     Ciu\\AppData\\Roaming\\nltk_data...\n",
      "[nltk_data]   Package stopwords is already up-to-date!\n",
      "[nltk_data] Downloading package wordnet to C:\\Users\\Tania\n",
      "[nltk_data]     Ciu\\AppData\\Roaming\\nltk_data...\n",
      "[nltk_data]   Package wordnet is already up-to-date!\n"
     ]
    },
    {
     "data": {
      "text/html": [
       "<div>\n",
       "<style scoped>\n",
       "    .dataframe tbody tr th:only-of-type {\n",
       "        vertical-align: middle;\n",
       "    }\n",
       "\n",
       "    .dataframe tbody tr th {\n",
       "        vertical-align: top;\n",
       "    }\n",
       "\n",
       "    .dataframe thead th {\n",
       "        text-align: right;\n",
       "    }\n",
       "</style>\n",
       "<table border=\"1\" class=\"dataframe\">\n",
       "  <thead>\n",
       "    <tr style=\"text-align: right;\">\n",
       "      <th></th>\n",
       "      <th>clean_text</th>\n",
       "      <th>clean_text_tokenize_stopwords_lemma</th>\n",
       "    </tr>\n",
       "  </thead>\n",
       "  <tbody>\n",
       "    <tr>\n",
       "      <th>0</th>\n",
       "      <td>great danger cool motif and cantik2 juga model...</td>\n",
       "      <td>[great, danger, cool, motif, cantik2, juga, mo...</td>\n",
       "    </tr>\n",
       "    <tr>\n",
       "      <th>1</th>\n",
       "      <td>one of the shades dont fit well</td>\n",
       "      <td>[one, shade, dont, fit, well]</td>\n",
       "    </tr>\n",
       "    <tr>\n",
       "      <th>2</th>\n",
       "      <td>very comfortable</td>\n",
       "      <td>[comfortable]</td>\n",
       "    </tr>\n",
       "    <tr>\n",
       "      <th>3</th>\n",
       "      <td>fast delivery product expiry is on dec 2022 pr...</td>\n",
       "      <td>[fast, delivery, product, expiry, dec, 2022, p...</td>\n",
       "    </tr>\n",
       "    <tr>\n",
       "      <th>4</th>\n",
       "      <td>its sooooo cute i like playing with the glitte...</td>\n",
       "      <td>[sooooo, cute, like, playing, glitter, better,...</td>\n",
       "    </tr>\n",
       "  </tbody>\n",
       "</table>\n",
       "</div>"
      ],
      "text/plain": [
       "                                          clean_text  \\\n",
       "0  great danger cool motif and cantik2 juga model...   \n",
       "1                    one of the shades dont fit well   \n",
       "2                                   very comfortable   \n",
       "3  fast delivery product expiry is on dec 2022 pr...   \n",
       "4  its sooooo cute i like playing with the glitte...   \n",
       "\n",
       "                 clean_text_tokenize_stopwords_lemma  \n",
       "0  [great, danger, cool, motif, cantik2, juga, mo...  \n",
       "1                      [one, shade, dont, fit, well]  \n",
       "2                                      [comfortable]  \n",
       "3  [fast, delivery, product, expiry, dec, 2022, p...  \n",
       "4  [sooooo, cute, like, playing, glitter, better,...  "
      ]
     },
     "execution_count": 18,
     "metadata": {},
     "output_type": "execute_result"
    }
   ],
   "source": [
    "data1 = df1[['review']]\n",
    "#remove punctuation\n",
    "data1['clean_text']=data1['review'].apply(lambda x: remove_punctuation(x))\n",
    "#remove hyperlink\n",
    "data1['clean_text'] = data1['clean_text'].str.replace(r\"http\\S+\", \"\") \n",
    "#remove emoji\n",
    "data1['clean_text'] = data1['clean_text'].str.replace('[^\\w\\s#@/:%.,_-]', '', flags=re.UNICODE)\n",
    "#convert all words to lowercase\n",
    "data1['clean_text'] = data1['clean_text'].str.lower()\n",
    "data1['clean_text'] = data1['clean_text'].apply(recover_shortened_words)\n",
    "#tokenization\n",
    "data1['clean_text_tokenize']=data1['clean_text'].apply(lambda x: tokenize(x.lower()))\n",
    "#remove stopwords\n",
    "import nltk\n",
    "nltk.download('stopwords')\n",
    "data1['clean_text_tokenize_stopwords'] = data1['clean_text_tokenize'].apply(lambda x: remove_stopwords(x))\n",
    "#stemming\n",
    "nltk.download('wordnet')\n",
    "data1['clean_text_tokenize_stopwords_lemma'] = data1['clean_text_tokenize_stopwords'].apply(lambda x: [lemmatizer.lemmatize(i) for i in x])\n",
    "#data1['clean_text_stopwords'] = data1['clean_text_tokenize_stopwords'].apply(lambda x: detok.detokenize(x))\n",
    "df1_clean = data1[['clean_text', 'clean_text_tokenize_stopwords_lemma']]\n",
    "df1_clean.head(5)"
   ]
  },
  {
   "cell_type": "markdown",
   "metadata": {
    "id": "OP_HpZcjoaug"
   },
   "source": [
    "## Vectorization Data"
   ]
  },
  {
   "cell_type": "code",
   "execution_count": 19,
   "metadata": {
    "colab": {
     "base_uri": "https://localhost:8080/"
    },
    "executionInfo": {
     "elapsed": 2369,
     "status": "ok",
     "timestamp": 1621328440476,
     "user": {
      "displayName": "Jericho Siahaya",
      "photoUrl": "https://lh3.googleusercontent.com/a-/AOh14GjBl11TaSe0bXoQ7xQkcZNxn1OJbalLYPuyqYa1kg=s64",
      "userId": "13508393199100041109"
     },
     "user_tz": -420
    },
    "id": "jqf-HhxIoaug",
    "outputId": "6922e7bd-b9ba-4beb-cb11-db747d5b50c1"
   },
   "outputs": [
    {
     "name": "stdout",
     "output_type": "stream",
     "text": [
      "(57172, 6549) (57172,)\n",
      "(6353, 6549) (6353,)\n"
     ]
    }
   ],
   "source": [
    "from sklearn.model_selection import train_test_split\n",
    "#X = df_clean['clean_text_tokenize_stopwords_lemma']\n",
    "X= bow_vectorizer.fit_transform(data['clean_text_tokenize_stopwords_lemma'])\n",
    "\n",
    "#X_test = df1_clean['clean_text_tokenize_stopwords_lemma']\n",
    "#X_test = bow_vectorizer.transform(data1['clean_text_tokenize_stopwords_lemma'])\n",
    "\n",
    "Y = df_clean['rating']\n",
    "\n",
    "X_train, X_test, y_train, y_test = train_test_split(X,Y, test_size = 0.10, random_state = 42)\n",
    "print(X_train.shape,y_train.shape)\n",
    "print(X_test.shape,y_test.shape)"
   ]
  },
  {
   "cell_type": "markdown",
   "metadata": {
    "id": "OcfTqtz7oaug"
   },
   "source": [
    "## Modeling Function"
   ]
  },
  {
   "cell_type": "code",
   "execution_count": 20,
   "metadata": {
    "id": "_IMnOK6Woauh"
   },
   "outputs": [],
   "source": [
    "from sklearn.metrics import classification_report, f1_score, accuracy_score, precision_score, recall_score, confusion_matrix\n",
    "\n",
    "def predict(model, X):\n",
    "    y = model.predict(X)\n",
    "    return y\n",
    "\n",
    "def metrics(y_true, y_pred):\n",
    "    print('F1 Score :', f1_score(y_true, y_pred, average='macro'))\n",
    "    print('Accuracy :', accuracy_score(y_true, y_pred))\n",
    "    print('Precision :', precision_score(y_true, y_pred, average='macro'))\n",
    "    print('Recall :', recall_score(y_true, y_pred, average='macro'))\n",
    "    print(classification_report(y_true, y_pred))\n",
    "\n",
    "    cm = confusion_matrix(y_true, y_pred)\n",
    "    cm = pd.DataFrame(cm, [1,2,3,4,5], [1,2,3,4,5])\n",
    "\n",
    "    sns.heatmap(cm, annot=True, cmap=\"YlGnBu\", fmt=\"d\")\n",
    "    plt.show()"
   ]
  },
  {
   "cell_type": "markdown",
   "metadata": {
    "id": "TYAWk2hBoauh"
   },
   "source": [
    "## Naive Bayes (Multinomial)"
   ]
  },
  {
   "cell_type": "code",
   "execution_count": 21,
   "metadata": {
    "id": "PoeOIH5Xoauh",
    "outputId": "7d9ad0f5-2ef2-4859-ac33-b279e86769e0"
   },
   "outputs": [
    {
     "name": "stdout",
     "output_type": "stream",
     "text": [
      "F1 Score : 0.5427601213925957\n",
      "Accuracy : 0.5493948086475897\n",
      "Precision : 0.5475551991386466\n",
      "Recall : 0.5493401495337041\n",
      "              precision    recall  f1-score   support\n",
      "\n",
      "           1       0.62      0.74      0.67     11435\n",
      "           2       0.56      0.58      0.57     11441\n",
      "           3       0.52      0.51      0.52     11482\n",
      "           4       0.54      0.35      0.42     11408\n",
      "           5       0.50      0.57      0.53     11406\n",
      "\n",
      "    accuracy                           0.55     57172\n",
      "   macro avg       0.55      0.55      0.54     57172\n",
      "weighted avg       0.55      0.55      0.54     57172\n",
      "\n"
     ]
    },
    {
     "data": {
      "image/png": "[encoded data removed]",
      "text/plain": [
       "<Figure size 432x288 with 2 Axes>"
      ]
     },
     "metadata": {
      "needs_background": "light"
     },
     "output_type": "display_data"
    }
   ],
   "source": [
    "from sklearn.naive_bayes import MultinomialNB\n",
    "clf_NB = MultinomialNB()\n",
    "model_NB = clf_NB.fit(X_train, y_train)\n",
    "y_train_predict_NB = predict(model_NB, X_train)\n",
    "metrics(y_train, y_train_predict_NB)"
   ]
  },
  {
   "cell_type": "code",
   "execution_count": 22,
   "metadata": {
    "colab": {
     "base_uri": "https://localhost:8080/",
     "height": 537
    },
    "executionInfo": {
     "elapsed": 1448,
     "status": "ok",
     "timestamp": 1621328538654,
     "user": {
      "displayName": "Jericho Siahaya",
      "photoUrl": "https://lh3.googleusercontent.com/a-/AOh14GjBl11TaSe0bXoQ7xQkcZNxn1OJbalLYPuyqYa1kg=s64",
      "userId": "13508393199100041109"
     },
     "user_tz": -420
    },
    "id": "tFXFbHuotSHK",
    "outputId": "3373d2e9-14db-494e-f587-14da5bc889bf"
   },
   "outputs": [
    {
     "name": "stdout",
     "output_type": "stream",
     "text": [
      "F1 Score : 0.46183259719314423\n",
      "Accuracy : 0.47001416653549505\n",
      "Precision : 0.4631107970682834\n",
      "Recall : 0.4707817204809233\n",
      "              precision    recall  f1-score   support\n",
      "\n",
      "           1       0.56      0.68      0.62      1270\n",
      "           2       0.48      0.48      0.48      1264\n",
      "           3       0.44      0.46      0.45      1223\n",
      "           4       0.41      0.26      0.32      1297\n",
      "           5       0.42      0.48      0.45      1299\n",
      "\n",
      "    accuracy                           0.47      6353\n",
      "   macro avg       0.46      0.47      0.46      6353\n",
      "weighted avg       0.46      0.47      0.46      6353\n",
      "\n"
     ]
    },
    {
     "data": {
      "image/png": "[encoded data removed]",
      "text/plain": [
       "<Figure size 432x288 with 2 Axes>"
      ]
     },
     "metadata": {
      "needs_background": "light"
     },
     "output_type": "display_data"
    }
   ],
   "source": [
    "from sklearn.naive_bayes import MultinomialNB\n",
    "clf_NB = MultinomialNB()\n",
    "model_NB = clf_NB.fit(X_train, y_train)\n",
    "y_test_predict_NB = predict(model_NB, X_test)\n",
    "metrics(y_test, y_test_predict_NB)"
   ]
  },
  {
   "cell_type": "code",
   "execution_count": 25,
   "metadata": {
    "id": "NW1ynAm_oaui",
    "outputId": "d74ba625-1d4d-475d-ad02-4dce10deabe3"
   },
   "outputs": [
    {
     "data": {
      "text/html": [
       "<div>\n",
       "<style scoped>\n",
       "    .dataframe tbody tr th:only-of-type {\n",
       "        vertical-align: middle;\n",
       "    }\n",
       "\n",
       "    .dataframe tbody tr th {\n",
       "        vertical-align: top;\n",
       "    }\n",
       "\n",
       "    .dataframe thead th {\n",
       "        text-align: right;\n",
       "    }\n",
       "</style>\n",
       "<table border=\"1\" class=\"dataframe\">\n",
       "  <thead>\n",
       "    <tr style=\"text-align: right;\">\n",
       "      <th></th>\n",
       "      <th>review_id</th>\n",
       "      <th>rating</th>\n",
       "    </tr>\n",
       "  </thead>\n",
       "  <tbody>\n",
       "    <tr>\n",
       "      <th>0</th>\n",
       "      <td>1</td>\n",
       "      <td>2.0</td>\n",
       "    </tr>\n",
       "    <tr>\n",
       "      <th>1</th>\n",
       "      <td>2</td>\n",
       "      <td>3.0</td>\n",
       "    </tr>\n",
       "    <tr>\n",
       "      <th>2</th>\n",
       "      <td>3</td>\n",
       "      <td>4.0</td>\n",
       "    </tr>\n",
       "    <tr>\n",
       "      <th>3</th>\n",
       "      <td>4</td>\n",
       "      <td>3.0</td>\n",
       "    </tr>\n",
       "    <tr>\n",
       "      <th>4</th>\n",
       "      <td>5</td>\n",
       "      <td>2.0</td>\n",
       "    </tr>\n",
       "  </tbody>\n",
       "</table>\n",
       "</div>"
      ],
      "text/plain": [
       "   review_id  rating\n",
       "0          1     2.0\n",
       "1          2     3.0\n",
       "2          3     4.0\n",
       "3          4     3.0\n",
       "4          5     2.0"
      ]
     },
     "execution_count": 25,
     "metadata": {},
     "output_type": "execute_result"
    }
   ],
   "source": [
    "y_test_predict_NB = predict(model_NB, X_test)\n",
    "df_NB = pd.concat([df1['review_id'], pd.Series(y_test_predict_NB, name='rating')], axis=1)\n",
    "df_NB.to_csv('result_MultinomialNB.csv', index=False)\n",
    "df_NB.head()"
   ]
  }
 ],
 "metadata": {
  "colab": {
   "name": "MultinomialNaiveBayes.ipynb",
   "provenance": [],
   "toc_visible": true
  },
  "kernelspec": {
   "display_name": "Python 3",
   "language": "python",
   "name": "python3"
  },
  "language_info": {
   "codemirror_mode": {
    "name": "ipython",
    "version": 3
   },
   "file_extension": ".py",
   "mimetype": "text/x-python",
   "name": "python",
   "nbconvert_exporter": "python",
   "pygments_lexer": "ipython3",
   "version": "3.8.3"
  }
 },
 "nbformat": 4,
 "nbformat_minor": 1
}
